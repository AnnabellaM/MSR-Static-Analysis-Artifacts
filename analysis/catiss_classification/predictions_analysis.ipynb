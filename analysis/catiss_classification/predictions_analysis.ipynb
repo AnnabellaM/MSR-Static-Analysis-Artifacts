{
 "cells": [
  {
   "cell_type": "code",
   "execution_count": 4,
   "metadata": {},
   "outputs": [],
   "source": [
    "import pandas as pd\n",
    "import sys\n",
    "import ast\n",
    "\n",
    "sys.path.append('../../')\n",
    "\n",
    "from utils.dataloader import get_issues\n",
    "\n",
    "issues = get_issues()\n",
    "\n",
    "issues['labels'] = issues['labels'].apply(lambda x: ast.literal_eval(x) if isinstance(x, str) else x)"
   ]
  },
  {
   "cell_type": "code",
   "execution_count": null,
   "metadata": {},
   "outputs": [
    {
     "name": "stdout",
     "output_type": "stream",
     "text": [
      "Issues with labels: 8314 / 19225 ( 43.24577373211964 %)\n"
     ]
    }
   ],
   "source": [
    "# lets check the accuracy of the predictions against the labeled issues in our data\n",
    "\n",
    "labeled_issues = issues[issues['labels'].apply(lambda x: isinstance(x, list) and len(x) > 0)]\n",
    "\n",
    "print('Issues with labels:', len(labeled_issues), '/', len(issues), '(', len(labeled_issues) / len(issues) * 100, '%)')\n",
    "\n",
    "# number of issues that have at least one of these labels\n",
    "special_labels = ['bug', 'enhancement', 'question']\n",
    "# rename enhancement, feature request, improvement into enhancement\n",
    "for index, issue in labeled_issues.iterrows():\n",
    "    for i, label in enumerate(issue['labels']):\n",
    "        if label in ['feature request', 'improvement']:\n",
    "            issue['labels'][i] = 'enhancement'\n",
    "\n",
    "# filter issues with special labels\n",
    "labeled_issues = labeled_issues[labeled_issues['labels'].apply(lambda x: any(label in x for label in special_labels))]"
   ]
  },
  {
   "cell_type": "code",
   "execution_count": 25,
   "metadata": {},
   "outputs": [
    {
     "name": "stdout",
     "output_type": "stream",
     "text": [
      "Accuracy of predictions: 92.78%\n",
      "Issues with labels  ['bug', 'enhancement', 'question']  : 3409 / 19225 ( 17.73211963589077 %)\n"
     ]
    }
   ],
   "source": [
    "# calculate the accuracy\n",
    "\n",
    "# if prop:category is in labeled_issues, it is a correct prediction\n",
    "correct_predictions = 0\n",
    "\n",
    "for index, issue in labeled_issues.iterrows():\n",
    "    if  issue['prop:category'] in issue['labels']:\n",
    "        correct_predictions += 1\n",
    "\n",
    "accuracy = correct_predictions / len(labeled_issues) * 100\n",
    "print(f'Accuracy of predictions: {accuracy:.2f}%')\n",
    "print('Issues with labels ', special_labels ,' :', len(labeled_issues), '/', len(issues), '(', len(labeled_issues) / len(issues) * 100, '%)')"
   ]
  }
 ],
 "metadata": {
  "kernelspec": {
   "display_name": ".venv",
   "language": "python",
   "name": "python3"
  },
  "language_info": {
   "codemirror_mode": {
    "name": "ipython",
    "version": 3
   },
   "file_extension": ".py",
   "mimetype": "text/x-python",
   "name": "python",
   "nbconvert_exporter": "python",
   "pygments_lexer": "ipython3",
   "version": "3.9.6"
  }
 },
 "nbformat": 4,
 "nbformat_minor": 2
}
