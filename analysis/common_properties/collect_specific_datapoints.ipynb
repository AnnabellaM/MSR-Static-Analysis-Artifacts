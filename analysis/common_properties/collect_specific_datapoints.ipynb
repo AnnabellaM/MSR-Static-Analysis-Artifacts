{
 "cells": [
  {
   "cell_type": "code",
   "execution_count": 1,
   "id": "1fd85280",
   "metadata": {},
   "outputs": [],
   "source": [
    "import pandas as pd\n",
    "import sys\n",
    "sys.path.append('../..')\n",
    "\n",
    "from utils.dataloader import get_issues\n",
    "\n",
    "issues = get_issues()"
   ]
  },
  {
   "cell_type": "code",
   "execution_count": 2,
   "id": "c5058d5f",
   "metadata": {},
   "outputs": [
    {
     "name": "stdout",
     "output_type": "stream",
     "text": [
      "Percent of open issues that are open for at least one year: 79.84%\n"
     ]
    }
   ],
   "source": [
    "open_issues = issues[issues['prop:state'] == 'open']\n",
    "# find the percent of open issues that are open at least one year\n",
    "open_issues_one_year = open_issues[open_issues['prop:resolution'] >= 365]\n",
    "percent_open_issues_one_year = (open_issues_one_year.shape[0] / open_issues.shape[0]) * 100\n",
    "print(f\"Percent of open issues that are open for at least one year: {percent_open_issues_one_year:.2f}%\")"
   ]
  },
  {
   "cell_type": "code",
   "execution_count": 3,
   "id": "f8c25c41",
   "metadata": {},
   "outputs": [
    {
     "name": "stdout",
     "output_type": "stream",
     "text": [
      "Max resolution time: 3350.830972222222, https://github.com/facebook/infer/issues/8 days\n",
      "Median resolution time: 5.370891203703704 days\n",
      "20th percentile resolution time: 0.07823148148148155 days\n",
      "80th percentile resolution time: 161.9828217592594 days\n"
     ]
    }
   ],
   "source": [
    "# resolution max\n",
    "closed_issues = issues[issues['prop:state'] == 'closed']\n",
    "max_resolution_issue = closed_issues.loc[closed_issues['prop:resolution'].idxmax()]\n",
    "print(f\"Max resolution time: {max_resolution_issue['prop:resolution']}, {max_resolution_issue['html_url']} days\")\n",
    "\n",
    "# median\n",
    "print(f\"Median resolution time: {closed_issues['prop:resolution'].median()} days\")\n",
    "\n",
    "# 20th percentile\n",
    "print(f\"20th percentile resolution time: {closed_issues['prop:resolution'].quantile(0.2)} days\")\n",
    "\n",
    "# 80th percentile\n",
    "print(f\"80th percentile resolution time: {closed_issues['prop:resolution'].quantile(0.8)} days\")"
   ]
  },
  {
   "cell_type": "code",
   "execution_count": 4,
   "id": "fb19f41d",
   "metadata": {},
   "outputs": [
    {
     "name": "stdout",
     "output_type": "stream",
     "text": [
      "Median number of comments: 2.0\n",
      "Quantiles of number of comments:\n",
      "0.25    1.0\n",
      "0.50    2.0\n",
      "0.75    5.0\n",
      "Name: prop:comments, dtype: float64\n",
      "Percent of issues with less than 3 comments: 50.55%\n",
      "Most commented issues:\n",
      "https://github.com/pmd/pmd/issues/2868 - 86 comments - enhancement\n",
      "https://github.com/facebook/infer/issues/34 - 77 comments - question\n",
      "https://github.com/spotbugs/spotbugs/issues/8 - 75 comments - enhancement\n",
      "https://github.com/phpstan/phpstan/issues/1010 - 61 comments - enhancement\n",
      "https://github.com/phpstan/phpstan/issues/67 - 59 comments - bug\n",
      "https://github.com/phpstan/phpstan/issues/3931 - 58 comments - bug\n",
      "https://github.com/phpstan/phpstan/issues/786 - 54 comments - bug\n",
      "https://github.com/pmd/pmd/issues/419 - 53 comments - enhancement\n",
      "https://github.com/phpstan/phpstan/issues/4072 - 52 comments - question\n",
      "https://github.com/wala/WALA/issues/99 - 52 comments - bug\n"
     ]
    }
   ],
   "source": [
    "# median number of comments\n",
    "median_comments = issues['prop:comments'].median()\n",
    "print(f\"Median number of comments: {median_comments}\")\n",
    "# quantiles\n",
    "quantiles = issues['prop:comments'].quantile([0.25, 0.5, 0.75])\n",
    "print(f\"Quantiles of number of comments:\\n{quantiles}\")\n",
    "\n",
    "# percent of issues that have less than 3 comments\n",
    "less_than_3_comments = issues[issues['prop:comments'] < 3].shape[0]\n",
    "total_issues = issues.shape[0]\n",
    "percent_less_than_3_comments = (less_than_3_comments / total_issues) * 100\n",
    "print(f\"Percent of issues with less than 3 comments: {percent_less_than_3_comments:.2f}%\")\n",
    "\n",
    "# get the issues with the most comments\n",
    "most_commented_issues = issues.nlargest(10, 'prop:comments')\n",
    "print(\"Most commented issues:\")\n",
    "for index, row in most_commented_issues.iterrows():\n",
    "    print(f\"{row['html_url']} - {row['prop:comments']} comments - {row['prop:category']}\")"
   ]
  },
  {
   "cell_type": "code",
   "execution_count": 5,
   "id": "d7f18f79",
   "metadata": {},
   "outputs": [
    {
     "name": "stdout",
     "output_type": "stream",
     "text": [
      "Percent of issues with less than 2 unique users: 42.86%\n"
     ]
    }
   ],
   "source": [
    "# unique users\n",
    "unique_users = issues['prop:users'].nunique()\n",
    "# percent less than 2 users\n",
    "less_than_2_users = issues[issues['prop:users'] < 2].shape[0]\n",
    "percent_less_than_2_users = (less_than_2_users / total_issues) * 100\n",
    "print(f\"Percent of issues with less than 2 unique users: {percent_less_than_2_users:.2f}%\")"
   ]
  },
  {
   "cell_type": "code",
   "execution_count": 6,
   "id": "0e0c2ca3",
   "metadata": {},
   "outputs": [
    {
     "name": "stdout",
     "output_type": "stream",
     "text": [
      "Number of issues with no files changed: 84.01%\n",
      "Median number of files changed: 5.0\n",
      "75th percentile of number of files changed: 18.0\n"
     ]
    }
   ],
   "source": [
    "# print the number of issues with no files changed\n",
    "no_files_changed = issues[issues['prop:files'] == 0].shape[0]\n",
    "print(f\"Number of issues with no files changed: {no_files_changed/issues.shape[0] * 100:.2f}%\")\n",
    "\n",
    "# median of number of files changed (only those with at least one file changed)\n",
    "median_files_changed = issues[issues['prop:files'] > 0]['prop:files'].median()\n",
    "print(f\"Median number of files changed: {median_files_changed}\")\n",
    "# 75th percentile of number of files changed\n",
    "quantile_files_changed = issues[issues['prop:files'] > 0]['prop:files'].quantile(0.75)\n",
    "print(f\"75th percentile of number of files changed: {quantile_files_changed}\")"
   ]
  }
 ],
 "metadata": {
  "kernelspec": {
   "display_name": ".venv",
   "language": "python",
   "name": "python3"
  },
  "language_info": {
   "codemirror_mode": {
    "name": "ipython",
    "version": 3
   },
   "file_extension": ".py",
   "mimetype": "text/x-python",
   "name": "python",
   "nbconvert_exporter": "python",
   "pygments_lexer": "ipython3",
   "version": "3.9.6"
  }
 },
 "nbformat": 4,
 "nbformat_minor": 5
}
