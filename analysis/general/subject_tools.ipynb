{
 "cells": [
  {
   "cell_type": "code",
   "execution_count": null,
   "id": "fb52d2eb",
   "metadata": {},
   "outputs": [],
   "source": [
    "import pandas as pd\n",
    "from github import Github, Auth\n",
    "import os\n",
    "from dotenv import dotenv_values\n",
    "import sys\n",
    "sys.path.append('../../')\n",
    "from utils.dataloader import get_issues, get_repos"
   ]
  },
  {
   "cell_type": "code",
   "execution_count": 2,
   "id": "eff360d8",
   "metadata": {},
   "outputs": [],
   "source": [
    "config = dotenv_values(\"../../.env\")\n",
    "auth = Auth.Token(config['GITHUB_TOKEN'])\n",
    "gh = Github(auth=auth)"
   ]
  },
  {
   "cell_type": "code",
   "execution_count": null,
   "id": "903e1fc8",
   "metadata": {},
   "outputs": [
    {
     "name": "stdout",
     "output_type": "stream",
     "text": [
      "Processing repository: soot-oss/soot\n",
      "Processing repository: soot-oss/SootUp\n",
      "Processing repository: wala/WALA\n",
      "Processing repository: secure-software-engineering/FlowDroid\n",
      "Processing repository: secure-software-engineering/phasar\n",
      "Processing repository: opalj/opal\n",
      "Processing repository: facebook/infer\n",
      "Processing repository: arguslab/Argus-SAF\n",
      "Processing repository: MIT-PAC/droidsafe-src\n",
      "Processing repository: vitsalis/PyCG\n",
      "Processing repository: scottrogowski/code2flow\n",
      "Processing repository: cs-au-dk/TAJS\n",
      "Processing repository: diffblue/cbmc\n",
      "Processing repository: plast-lab/doop\n",
      "Processing repository: phpstan/phpstan\n",
      "Processing repository: phpstan/phpstan-src\n",
      "Processing repository: security-code-scan/security-code-scan\n",
      "Processing repository: pmd/pmd\n",
      "Processing repository: spotbugs/spotbugs\n",
      "Processing repository: yanniss/doop-deprecated\n"
     ]
    }
   ],
   "source": [
    "data = []\n",
    "repos = get_repos()\n",
    "issues = get_issues()\n",
    "\n",
    "for index, _repo in repos.iterrows():\n",
    "    print(f\"Processing repository: {_repo['repo']}\")\n",
    "    if _repo['host'] == 'Github':\n",
    "        repo = gh.get_repo(_repo['repo'])\n",
    "        stars_count = repo.stargazers_count\n",
    "    else:\n",
    "        stars_count = 0\n",
    "    \n",
    "    issues_count = issues[issues['repo'] == _repo['repo']].shape[0]\n",
    "\n",
    "    data.append( {\n",
    "        'Repository': _repo['repo'],\n",
    "        'Stars': stars_count,\n",
    "        'Issues': issues_count,\n",
    "        'Host': _repo['host']\n",
    "    })\n",
    "\n",
    "totals = pd.DataFrame(data).sum()\n",
    "\n",
    "data.append({\n",
    "    'Repository': 'Total',\n",
    "    'Stars': totals['Stars'],\n",
    "    'Issues': totals['Issues'],\n",
    "    'Host': 'Github'\n",
    "})"
   ]
  },
  {
   "cell_type": "code",
   "execution_count": null,
   "id": "08c6758b",
   "metadata": {},
   "outputs": [],
   "source": [
    "data = pd.DataFrame(data)\n",
    "# sort by stars count\n",
    "data = data.sort_values(by='Stars', ascending=False)\n",
    "data.to_csv('../../results/figures/general/subject_tools.csv', index=False)"
   ]
  }
 ],
 "metadata": {
  "kernelspec": {
   "display_name": ".venv",
   "language": "python",
   "name": "python3"
  },
  "language_info": {
   "codemirror_mode": {
    "name": "ipython",
    "version": 3
   },
   "file_extension": ".py",
   "mimetype": "text/x-python",
   "name": "python",
   "nbconvert_exporter": "python",
   "pygments_lexer": "ipython3",
   "version": "3.9.6"
  }
 },
 "nbformat": 4,
 "nbformat_minor": 5
}
