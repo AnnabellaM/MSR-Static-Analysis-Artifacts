{
 "cells": [
  {
   "cell_type": "code",
   "execution_count": null,
   "metadata": {},
   "outputs": [],
   "source": [
    "import pandas as pd\n",
    "import sys\n",
    "sys.path.append('../../')\n",
    "\n",
    "from utils.dataloader import get_issues\n",
    "\n",
    "issues = get_issues()"
   ]
  },
  {
   "cell_type": "code",
   "execution_count": 2,
   "metadata": {},
   "outputs": [],
   "source": [
    "# conditions \n",
    "\n",
    "interest_group_conditions = {\n",
    "    'quick fix': (\n",
    "        (issues['prop:resolution'] <= 1) &\n",
    "        (issues['prop:state'] == 'closed')\n",
    "    ),\n",
    "    'slow fix': (\n",
    "        (issues['prop:resolution'] >= 162) &\n",
    "        (issues['prop:state'] == 'closed')\n",
    "    ),\n",
    "    'hot topic': (\n",
    "        (issues['prop:comments'] >= 10) |\n",
    "        (issues['prop:users'] >= 3)\n",
    "    ),\n",
    "    'first_time': (\n",
    "        (issues['prop:first'])\n",
    "    ),\n",
    "    'easy fix': (\n",
    "        (issues['prop:files'] <= 2) &\n",
    "        (issues['prop:files'] > 0) &\n",
    "        (issues['prop:loc'] <= 23)\n",
    "    ),\n",
    "    'hard fix': (\n",
    "        (issues['prop:files'] >= 36) |\n",
    "        (issues['prop:loc'] >= 1329)\n",
    "    ),\n",
    "    'ignored': (\n",
    "        (issues['prop:comments'] == 0) &\n",
    "        (issues['prop:files'] == 0) &\n",
    "        (issues['prop:loc'] == 0)\n",
    "    )\n",
    "}"
   ]
  },
  {
   "cell_type": "code",
   "execution_count": 3,
   "metadata": {},
   "outputs": [],
   "source": [
    "# process the conditions\n",
    "processed_conditions = {}\n",
    "for key, condition in interest_group_conditions.items():\n",
    "    processed_conditions[key] = issues[condition]\n",
    "\n",
    "stats = []\n",
    "for key, df in processed_conditions.items():\n",
    "    stats.append({\n",
    "        'Interest Group': key,\n",
    "        'Number of Issues': df.shape[0],\n",
    "        'Percentage of Total': df.shape[0] / issues.shape[0] * 100,\n",
    "    })\n",
    "\n",
    "# create a df that saves the interest group labels\n",
    "interest_groups_results = []\n",
    "for index, issue in issues.iterrows():\n",
    "    results = {}\n",
    "\n",
    "    for key, condition in interest_group_conditions.items():\n",
    "        if condition[index]:\n",
    "            results[key] = True\n",
    "        else:\n",
    "            results[key] = False\n",
    "\n",
    "    interest_groups_results.append(results)\n",
    "\n",
    "for key in interest_group_conditions.keys():\n",
    "    issues[f'ig:{key}'] = [result[key] for result in interest_groups_results]\n",
    "\n",
    "issues.to_csv('../../results/csv/issues.csv', index=False)\n",
    "\n",
    "stats = pd.DataFrame(stats)\n",
    "stats.to_csv('../../results/csv/interest_groups/interest_group_stats.csv', index=False)"
   ]
  }
 ],
 "metadata": {
  "kernelspec": {
   "display_name": ".venv",
   "language": "python",
   "name": "python3"
  },
  "language_info": {
   "codemirror_mode": {
    "name": "ipython",
    "version": 3
   },
   "file_extension": ".py",
   "mimetype": "text/x-python",
   "name": "python",
   "nbconvert_exporter": "python",
   "pygments_lexer": "ipython3",
   "version": "3.9.6"
  }
 },
 "nbformat": 4,
 "nbformat_minor": 2
}
