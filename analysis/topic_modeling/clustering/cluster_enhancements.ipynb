{
 "cells": [
  {
   "cell_type": "code",
   "execution_count": null,
   "id": "755e3633",
   "metadata": {},
   "outputs": [],
   "source": [
    "import sys\n",
    "import pandas as pd\n",
    "\n",
    "sys.path.append('../../../')\n",
    "from utils.preprocessors.diamantopoulos_preprocessor import diamantopoulos_preprocess\n",
    "from utils.dataloader import get_issues\n",
    "\n",
    "issues = get_issues()"
   ]
  },
  {
   "cell_type": "code",
   "execution_count": null,
   "id": "0d76f2e0",
   "metadata": {},
   "outputs": [],
   "source": [
    "# enhancement is 1\n",
    "\n",
    "enhancement_issues = issues[issues['prop:category'] == \"enhancement\"]"
   ]
  },
  {
   "cell_type": "code",
   "execution_count": 18,
   "id": "2b394e64",
   "metadata": {},
   "outputs": [
    {
     "data": {
      "application/vnd.microsoft.datawrangler.viewer.v0+json": {
       "columns": [
        {
         "name": "index",
         "rawType": "int64",
         "type": "integer"
        },
        {
         "name": "text",
         "rawType": "object",
         "type": "string"
        },
        {
         "name": "predictions",
         "rawType": "int64",
         "type": "integer"
        },
        {
         "name": "id",
         "rawType": "int64",
         "type": "integer"
        },
        {
         "name": "repo",
         "rawType": "object",
         "type": "string"
        },
        {
         "name": "host",
         "rawType": "object",
         "type": "string"
        },
        {
         "name": "url",
         "rawType": "object",
         "type": "string"
        },
        {
         "name": "state",
         "rawType": "object",
         "type": "string"
        },
        {
         "name": "created_at",
         "rawType": "object",
         "type": "string"
        }
       ],
       "ref": "d06da68d-cc16-4647-8800-7a6fb33f71b4",
       "rows": [
        [
         "14",
         "Switch from Travis to GitHub Actions We recently created [setup-ocaml](https://github.com/avsm/setup-ocaml). If you are okay, I would like to switch to that.",
         "1",
         "625216324",
         "facebook/infer",
         "Github",
         "https://github.com/facebook/infer/issues/1270",
         "closed",
         "2020-05-26 21:39:31+00:00"
        ],
        [
         "22",
         "PeepholeOptimizer usage is awkward The ```soot.baf.toolkits.base.PeepholeOptimizer``` requires all peephole optimizations to be listed in the ```peephole.dat``` file (located in the same directory as PeepholeOptimizer.class) and that all peephole optimization classes are in the ```soot.baf.toolkits.base``` package. This is fine for peephole optimizations defined within Soot itself but is not friendly for users wishing to add their own peephole optimization passes. Perhaps instead of (or in addition to) the ```peephole.dat``` file an option should be used that allows the user to specify any number of classes (which obviously implement ```Peephole```) to be run as peephole passes.",
         "1",
         "692295444",
         "soot-oss/soot",
         "Github",
         "https://github.com/soot-oss/soot/issues/1459",
         "open",
         "2020-09-03 20:11:11+00:00"
        ],
        [
         "23",
         "Missing asymmetric visibility checks ### Feature request\n\nEven after https://github.com/phpstan/phpstan-src/commit/c34432b4ce5e3ca48d56b7cbbc9f7daa717701be, there's still some work left for PHPStan to check invalid property declarations:\r\n\r\n- [ ] The set visibility, if specified explicitly, MUST be equal to or lesser than the main (get) visibility. That is, protected public(set) string $foo is not allowed.\r\n- [ ] Inheritance - cannot narrow visibility (but set visibility may be omitted if get visibility is wider)\r\n- [ ] If parent is public but only readable (has a get hook and is virtual), a child can do `protected(set)` and add a set hook - `public protected(set) $answer { get => 42; set => print “Why?”; }`\r\n- [ ] virtual properties that have no set operation. If there is no set operation defined on a property, then it is nonsensical to specify a visibility for it. That case will trigger a compile error. For example: public private(set) $answer { get => 42; }\r\n- [ ] Property with asymmetric visibility must have type specified\r\n- [ ] If a virtual property has a set operation and is public, public protected(set) in a child class is invalid\r\n- [ ] Asymmetric visibility is only compatible with properties that have an explicit type specified\r\n- [ ] This functionality applies only to object properties. It does not apply to static properties. - compile time error, if it's even allowed by PHP-Parser grammar\r\n- [ ] Readonly implicitly implies protected(set) - important for inheritance. But the declaration can also explicitly state private(set)\r\n\n\n### Did PHPStan help you today? Did it make you happy in any way?\n\n_No response_",
         "1",
         "2763707356",
         "phpstan/phpstan",
         "Github",
         "https://github.com/phpstan/phpstan/issues/12347",
         "open",
         "2024-12-30 21:17:12+00:00"
        ],
        [
         "27",
         "[docker] add patch cli to the docker image ### Feature request\r\n\r\nWe run a number of projects which require composer package patching via `cweagans/composer-patches`. But also in CI we want to enforce that if patching fails then CI fails. In the case of the base phpstan docker image it does not have `patch` cli support so fails all the time.\r\n\r\nIs it possible to add patch cli support to the docker image? Or is it out of scope?\r\n\r\n(Edit: I will create a PR. close all if out of scope ;-))\r\n\r\n\r\n\r\n### Did PHPStan help you today? Did it make you happy in any way?\r\n\r\nphpstan always makes me happy ;-) especially when reducing a baseline.",
         "1",
         "2461670584",
         "phpstan/phpstan",
         "Github",
         "https://github.com/phpstan/phpstan/issues/11499",
         "closed",
         "2024-08-12 18:47:39+00:00"
        ],
        [
         "31",
         "Read @mixin above interfaces ### Feature request\n\nHello,\n\nI was trying to create a proxy system using generics and traits and while I couldn't make it work I came across this discussion : https://github.com/phpstan/phpstan/discussions/5565\nIt appears the `@mixin` has no effect on interfaces but I think at the time generics were not a thing in phpstan so maybe it would be useful to add it today\n\nAlso, Ibelieve zenstruck/foundry uses a similar system for its proxy. It would also benefit from this addition\n\nWhat I'm trying to do is similar to this\nhttps://phpstan.org/r/d14df0e7-77ad-41f9-a13b-c09893bf331f\n\nThanks in advance\n\n### Did PHPStan help you today? Did it make you happy in any way?\n\neveryday ❤️ ",
         "1",
         "3016848122",
         "phpstan/phpstan",
         "Github",
         "https://github.com/phpstan/phpstan/issues/12922",
         "open",
         "2025-04-24 10:51:35+00:00"
        ]
       ],
       "shape": {
        "columns": 8,
        "rows": 5
       }
      },
      "text/html": [
       "<div>\n",
       "<style scoped>\n",
       "    .dataframe tbody tr th:only-of-type {\n",
       "        vertical-align: middle;\n",
       "    }\n",
       "\n",
       "    .dataframe tbody tr th {\n",
       "        vertical-align: top;\n",
       "    }\n",
       "\n",
       "    .dataframe thead th {\n",
       "        text-align: right;\n",
       "    }\n",
       "</style>\n",
       "<table border=\"1\" class=\"dataframe\">\n",
       "  <thead>\n",
       "    <tr style=\"text-align: right;\">\n",
       "      <th></th>\n",
       "      <th>text</th>\n",
       "      <th>predictions</th>\n",
       "      <th>id</th>\n",
       "      <th>repo</th>\n",
       "      <th>host</th>\n",
       "      <th>url</th>\n",
       "      <th>state</th>\n",
       "      <th>created_at</th>\n",
       "    </tr>\n",
       "  </thead>\n",
       "  <tbody>\n",
       "    <tr>\n",
       "      <th>14</th>\n",
       "      <td>Switch from Travis to GitHub Actions We recent...</td>\n",
       "      <td>1</td>\n",
       "      <td>625216324</td>\n",
       "      <td>facebook/infer</td>\n",
       "      <td>Github</td>\n",
       "      <td>https://github.com/facebook/infer/issues/1270</td>\n",
       "      <td>closed</td>\n",
       "      <td>2020-05-26 21:39:31+00:00</td>\n",
       "    </tr>\n",
       "    <tr>\n",
       "      <th>22</th>\n",
       "      <td>PeepholeOptimizer usage is awkward The ```soot...</td>\n",
       "      <td>1</td>\n",
       "      <td>692295444</td>\n",
       "      <td>soot-oss/soot</td>\n",
       "      <td>Github</td>\n",
       "      <td>https://github.com/soot-oss/soot/issues/1459</td>\n",
       "      <td>open</td>\n",
       "      <td>2020-09-03 20:11:11+00:00</td>\n",
       "    </tr>\n",
       "    <tr>\n",
       "      <th>23</th>\n",
       "      <td>Missing asymmetric visibility checks ### Featu...</td>\n",
       "      <td>1</td>\n",
       "      <td>2763707356</td>\n",
       "      <td>phpstan/phpstan</td>\n",
       "      <td>Github</td>\n",
       "      <td>https://github.com/phpstan/phpstan/issues/12347</td>\n",
       "      <td>open</td>\n",
       "      <td>2024-12-30 21:17:12+00:00</td>\n",
       "    </tr>\n",
       "    <tr>\n",
       "      <th>27</th>\n",
       "      <td>[docker] add patch cli to the docker image ###...</td>\n",
       "      <td>1</td>\n",
       "      <td>2461670584</td>\n",
       "      <td>phpstan/phpstan</td>\n",
       "      <td>Github</td>\n",
       "      <td>https://github.com/phpstan/phpstan/issues/11499</td>\n",
       "      <td>closed</td>\n",
       "      <td>2024-08-12 18:47:39+00:00</td>\n",
       "    </tr>\n",
       "    <tr>\n",
       "      <th>31</th>\n",
       "      <td>Read @mixin above interfaces ### Feature reque...</td>\n",
       "      <td>1</td>\n",
       "      <td>3016848122</td>\n",
       "      <td>phpstan/phpstan</td>\n",
       "      <td>Github</td>\n",
       "      <td>https://github.com/phpstan/phpstan/issues/12922</td>\n",
       "      <td>open</td>\n",
       "      <td>2025-04-24 10:51:35+00:00</td>\n",
       "    </tr>\n",
       "  </tbody>\n",
       "</table>\n",
       "</div>"
      ],
      "text/plain": [
       "                                                 text  ...                 created_at\n",
       "14  Switch from Travis to GitHub Actions We recent...  ...  2020-05-26 21:39:31+00:00\n",
       "22  PeepholeOptimizer usage is awkward The ```soot...  ...  2020-09-03 20:11:11+00:00\n",
       "23  Missing asymmetric visibility checks ### Featu...  ...  2024-12-30 21:17:12+00:00\n",
       "27  [docker] add patch cli to the docker image ###...  ...  2024-08-12 18:47:39+00:00\n",
       "31  Read @mixin above interfaces ### Feature reque...  ...  2025-04-24 10:51:35+00:00\n",
       "\n",
       "[5 rows x 8 columns]"
      ]
     },
     "execution_count": 18,
     "metadata": {},
     "output_type": "execute_result"
    }
   ],
   "source": [
    "enhancement_issues.head()"
   ]
  },
  {
   "cell_type": "code",
   "execution_count": null,
   "id": "041e4721",
   "metadata": {},
   "outputs": [],
   "source": [
    "# cluster all of the bugs\n",
    "\n",
    "# preprocess\n",
    "\n",
    "# perform diamantopoulos preprocessing\n",
    "preprocessed_issues = []\n",
    "for index, issue in enhancement_issues.iterrows():\n",
    "    preprocessed_issues.append(diamantopoulos_preprocess(issue['title'] + ' ' + issue['body'] if pd.notna(issue['body']) else issue['title']))\n",
    "\n",
    "enhancement_issues['preprocessed'] = preprocessed_issues"
   ]
  },
  {
   "cell_type": "code",
   "execution_count": null,
   "id": "de6a7602",
   "metadata": {},
   "outputs": [
    {
     "name": "stderr",
     "output_type": "stream",
     "text": [
      "2025-06-03 14:56:09,777 - BERTopic - Embedding - Transforming documents to embeddings.\n",
      "Batches: 100%|██████████| 98/98 [00:35<00:00,  2.78it/s]\n",
      "2025-06-03 14:56:50,100 - BERTopic - Embedding - Completed ✓\n",
      "2025-06-03 14:56:50,103 - BERTopic - Dimensionality - Fitting the dimensionality reduction algorithm\n",
      "2025-06-03 14:57:31,618 - BERTopic - Dimensionality - Completed ✓\n",
      "2025-06-03 14:57:31,650 - BERTopic - Cluster - Start clustering the reduced embeddings\n",
      "2025-06-03 14:57:32,172 - BERTopic - Cluster - Completed ✓\n",
      "2025-06-03 14:57:32,204 - BERTopic - Representation - Extracting topics from clusters using representation models.\n",
      "2025-06-03 14:58:13,891 - BERTopic - Representation - Completed ✓\n"
     ]
    }
   ],
   "source": [
    "# bertopic\n",
    "from bertopic import BERTopic\n",
    "from umap import UMAP\n",
    "from bertopic.representation import KeyBERTInspired, MaximalMarginalRelevance\n",
    "\n",
    "umap_model = UMAP(\n",
    "    random_state=42,\n",
    "    metric=\"cosine\",  # or \"cosine\" for cosine similarity\n",
    "    n_neighbors=15,\n",
    "    n_components=5,\n",
    "    min_dist=0.0,\n",
    "    spread=1.0,\n",
    ")\n",
    "\n",
    "representation_models = {\n",
    "    'KeyBERTInspired': KeyBERTInspired(),\n",
    "    'MaximalMarginalRelevance': MaximalMarginalRelevance()\n",
    "}\n",
    "\n",
    "topic_model = BERTopic(\n",
    "    n_gram_range=(1, 2),\n",
    "    calculate_probabilities=True,\n",
    "    umap_model=umap_model,\n",
    "    representation_model=representation_models,\n",
    "    embedding_model='all-MiniLM-L6-v2',\n",
    "    min_topic_size=20,\n",
    "    verbose=True\n",
    ")\n",
    "\n",
    "strings = enhancement_issues['preprocessed'].apply(lambda x: ' '.join(x)).tolist()\n",
    "\n",
    "topics, probs = topic_model.fit_transform(strings)"
   ]
  },
  {
   "cell_type": "code",
   "execution_count": 21,
   "id": "7cf33b4f",
   "metadata": {},
   "outputs": [
    {
     "name": "stderr",
     "output_type": "stream",
     "text": [
      "2025-06-03 14:58:14,372 - BERTopic - WARNING: Using a custom list of topic assignments may lead to errors if topic reduction techniques are used afterwards. Make sure that manually assigning topics is the last step in the pipeline.Note that topic embeddings will also be created through weightedc-TF-IDF embeddings instead of centroid embeddings.\n"
     ]
    }
   ],
   "source": [
    "# reduce outliers\n",
    "\n",
    "new_topics = topic_model.reduce_outliers(strings, topics, probabilities=probs, strategy='probabilities')\n",
    "topic_model.update_topics(strings, topics=new_topics)"
   ]
  },
  {
   "cell_type": "code",
   "execution_count": null,
   "id": "072c33fa",
   "metadata": {},
   "outputs": [],
   "source": [
    "# generate csv so that can perform manual review\n",
    "\n",
    "manual_review = topic_model.get_topic_info()\n",
    "manual_review = manual_review.drop(columns=['Representative_Docs', 'Name'])\n",
    "manual_review['percentage'] = manual_review['Count'] / len(enhancement_issues)\n",
    "\n",
    "# get topic for every document\n",
    "document_topics = topic_model.get_document_info(strings)\n",
    "document_topics['html_url'] = enhancement_issues['html_url'].tolist()\n",
    "\n",
    "# for each topic, get the 5 highest probability documents\n",
    "def get_top_documents_url(topic):\n",
    "    return document_topics[document_topics['Topic'] == topic].nlargest(5, 'Probability')\n",
    "top_documents = ['\\n'.join(get_top_documents_url(topic)['html_url']) for topic in manual_review['Topic']]\n",
    "manual_review['top_documents'] = top_documents\n",
    "\n",
    "# create a column for the topic name that is empty\n",
    "manual_review['Topic Label (to be filled in by reviewer)'] = ''\n",
    "\n",
    "manual_review.to_csv('../../../results/csv/topic_modeling/manual_review/enhancements_manual_review.csv', index=False)"
   ]
  },
  {
   "cell_type": "code",
   "execution_count": null,
   "id": "ff54acbe",
   "metadata": {},
   "outputs": [],
   "source": [
    "# save document topics\n",
    "document_topics_df = document_topics[['Topic', 'Probability', 'html_url']]\n",
    "document_topics_df['id'] = enhancement_issues['id'].tolist()\n",
    "document_topics_df['repo'] = enhancement_issues['repo'].tolist()\n",
    "\n",
    "document_topics_df.to_csv('../../../results/csv/topic_modeling/clusters/enhancement_document_topics.csv', index=False)"
   ]
  }
 ],
 "metadata": {
  "kernelspec": {
   "display_name": ".venv",
   "language": "python",
   "name": "python3"
  },
  "language_info": {
   "codemirror_mode": {
    "name": "ipython",
    "version": 3
   },
   "file_extension": ".py",
   "mimetype": "text/x-python",
   "name": "python",
   "nbconvert_exporter": "python",
   "pygments_lexer": "ipython3",
   "version": "3.9.6"
  }
 },
 "nbformat": 4,
 "nbformat_minor": 5
}
