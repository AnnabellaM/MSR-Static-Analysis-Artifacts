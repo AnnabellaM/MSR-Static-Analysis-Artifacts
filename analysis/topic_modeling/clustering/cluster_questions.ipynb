{
 "cells": [
  {
   "cell_type": "code",
   "execution_count": null,
   "id": "5c8708e0",
   "metadata": {},
   "outputs": [],
   "source": [
    "import pandas as pd\n",
    "\n",
    "predicted_issues = pd.read_csv('../../../results/csv/catiss/catiss_predictions.csv')"
   ]
  },
  {
   "cell_type": "code",
   "execution_count": null,
   "id": "755e3633",
   "metadata": {},
   "outputs": [],
   "source": [
    "import sys\n",
    "sys.path.append('../../../')\n",
    "from utils.preprocessors.diamantopoulos_preprocessor import diamantopoulos_preprocess"
   ]
  },
  {
   "cell_type": "code",
   "execution_count": 12,
   "id": "0d76f2e0",
   "metadata": {},
   "outputs": [],
   "source": [
    "# question is defined as a label of 2\n",
    "\n",
    "question_issues = predicted_issues[predicted_issues['predictions'] == 2]"
   ]
  },
  {
   "cell_type": "code",
   "execution_count": 13,
   "id": "2b394e64",
   "metadata": {},
   "outputs": [
    {
     "data": {
      "application/vnd.microsoft.datawrangler.viewer.v0+json": {
       "columns": [
        {
         "name": "index",
         "rawType": "int64",
         "type": "integer"
        },
        {
         "name": "text",
         "rawType": "object",
         "type": "string"
        },
        {
         "name": "predictions",
         "rawType": "int64",
         "type": "integer"
        },
        {
         "name": "id",
         "rawType": "int64",
         "type": "integer"
        },
        {
         "name": "repo",
         "rawType": "object",
         "type": "string"
        },
        {
         "name": "host",
         "rawType": "object",
         "type": "string"
        },
        {
         "name": "url",
         "rawType": "object",
         "type": "string"
        },
        {
         "name": "state",
         "rawType": "object",
         "type": "string"
        },
        {
         "name": "created_at",
         "rawType": "object",
         "type": "string"
        }
       ],
       "ref": "0868e173-796b-44d7-8c30-f8577df1aa8a",
       "rows": [
        [
         "4",
         "How to find execution path with real data? Hello, \r\n\r\nI am in trouble with this. When I analysis java program, my requirement is finding the execution path with the real data which is the input of a function, but the problem is I don't know which api of Soot can do that task. I can make a CFG depend on your tutorial, but CFG is just a part of my project, I have to find execution path of function, too. So, the question is How do I use Soot to find the execution path in runtime? \r\n\r\nThank you",
         "2",
         "626971967",
         "soot-oss/soot",
         "Github",
         "https://github.com/soot-oss/soot/issues/1362",
         "open",
         "2020-05-29 03:31:13+00:00"
        ],
        [
         "18",
         "Suppress linting on iOS? I see in http://fbinfer.com/support that you can suppress linting with @SuppressLint(\"infer\"), but I was curious is there a way to do this on iOS? For example, I get high false-positive rate from the memory leak check, so I'd like to disable it where necessary.",
         "2",
         "247892795",
         "facebook/infer",
         "Github",
         "https://github.com/facebook/infer/issues/709",
         "open",
         "2017-08-04 03:23:33+00:00"
        ],
        [
         "25",
         "Task spotbugsMain NO-SOURCE I have gradle 8.5/java 21 and my scripts written on kotlin dsl:\r\n```\r\nimport com.github.spotbugs.snom.SpotBugsTask\r\n\r\nplugins {\r\n    id(\"com.github.spotbugs\")\r\n}\r\n\r\nspotbugs {\r\n    group = \"Verification\"\r\n    description = \"Run Spotbugs on this project.\"\r\n    ignoreFailures = false\r\n    showStackTraces = true\r\n    showProgress = true\r\n    maxHeapSize = \"1g\"\r\n\r\n}\r\ntasks.withType<SpotBugsTask>().configureEach {\r\n    dependsOn(\"assemble\")\r\n    classDirs = files(\"${project.layout.buildDirectory}.absolutePath/build/classes/java/main\")\r\n    sourceDirs = files(\"${project.layout.buildDirectory}.absolutePath/src/main/java\")\r\n}\r\n```\r\n\r\nAlso I have libs.versions.toml:\r\n\r\n```\r\n[versions]\r\nspotbugs = \"6.0.6\"\r\n\r\n[libraries]\r\nspotbugs-gradle = { module = \"com.github.spotbugs.snom:spotbugs-gradle-plugin\", version.ref = \"spotbugs\" }\r\n```\r\n\r\nWhen I do gradle spotbugsMain, it is not executed (in console I see NO-SOURCE)\r\n\r\n",
         "2",
         "2081412654",
         "spotbugs/spotbugs",
         "Github",
         "https://github.com/spotbugs/spotbugs/issues/2816",
         "closed",
         "2024-01-15 07:31:23+00:00"
        ],
        [
         "30",
         "[java] UnusedPrivateField cannot override ignored annotations property <!-- Have a look at https://github.com/pmd/pmd/issues?utf8=%E2%9C%93&q=label%3Aa%3Aquestion if there is already\r\na similar question -->\r\n\r\n**Description:**\r\n\r\nThere is this rule: https://pmd.github.io/latest/pmd_rules_java_bestpractices.html#unusedprivatefield\r\n\r\nBy default this rule will ignore any classes which annotated with any of the mentioned annotations. Now, I would like to override this and I want PMD to ignore these classes only if they are marked with lombok `@Getter` or `@Data` but do not ignore when they are marked with `@RequiredArgsConstructor` for example:\r\n\r\nSo I did this in my rule set:\r\n```xml\r\n    <rule ref=\"category/java/bestpractices.xml/UnusedPrivateField\">\r\n        <properties>\r\n            <property name=\"ignoredAnnotations\" value=\"lombok.Getter|lombok.Data\" />\r\n        </properties>\r\n    </rule>\r\n```\r\n\r\nHowever, this doesn't seem to work as the rule still doesn't trigger for a class which is only annotated with `@RequiredArgsConstructor` but not with `@Data` or `@Getter`. My impression is that when I override this property in my rule set it doesn't actually override the default list, instead it just extends it so `@RequiredArgsConstructor` is still part of the value. Is that right? Is it possible to completely override this property?",
         "2",
         "730237419",
         "pmd/pmd",
         "Github",
         "https://github.com/pmd/pmd/issues/2876",
         "closed",
         "2020-10-27 08:40:12+00:00"
        ],
        [
         "35",
         "Detecting internal accessor methods I am trying to create a detector for the use of internal accessor methods.\nI have created a Checker for that --> https://github.com/luiscruz/infer/blob/b6474d04eaee790c1632e86297de10282d9d5a07/infer/src/checkers/androidEnergyCheckers.ml\n\nHowever, my Checker is detecting whether a method is a getter or setter by parsing the method name. I.e., methods starting with `get` or `set` and with 0 or 1 parameters, respectively, are accessors.\n\nThe problem with this approach is that there are many false positives. Some methods which name starts with `get` or `set`, do not strictly get or set one object's field.\n\nI'm thinking that maybe add another restriction that considers the LOC of the method would fix the problem.\n\nIs this possible with Infer Checkers? Is there a better framework for this problem? What do you think?\n",
         "2",
         "142332172",
         "facebook/infer",
         "Github",
         "https://github.com/facebook/infer/issues/313",
         "closed",
         "2016-03-21 12:23:34+00:00"
        ]
       ],
       "shape": {
        "columns": 8,
        "rows": 5
       }
      },
      "text/html": [
       "<div>\n",
       "<style scoped>\n",
       "    .dataframe tbody tr th:only-of-type {\n",
       "        vertical-align: middle;\n",
       "    }\n",
       "\n",
       "    .dataframe tbody tr th {\n",
       "        vertical-align: top;\n",
       "    }\n",
       "\n",
       "    .dataframe thead th {\n",
       "        text-align: right;\n",
       "    }\n",
       "</style>\n",
       "<table border=\"1\" class=\"dataframe\">\n",
       "  <thead>\n",
       "    <tr style=\"text-align: right;\">\n",
       "      <th></th>\n",
       "      <th>text</th>\n",
       "      <th>predictions</th>\n",
       "      <th>id</th>\n",
       "      <th>repo</th>\n",
       "      <th>host</th>\n",
       "      <th>url</th>\n",
       "      <th>state</th>\n",
       "      <th>created_at</th>\n",
       "    </tr>\n",
       "  </thead>\n",
       "  <tbody>\n",
       "    <tr>\n",
       "      <th>4</th>\n",
       "      <td>How to find execution path with real data? Hel...</td>\n",
       "      <td>2</td>\n",
       "      <td>626971967</td>\n",
       "      <td>soot-oss/soot</td>\n",
       "      <td>Github</td>\n",
       "      <td>https://github.com/soot-oss/soot/issues/1362</td>\n",
       "      <td>open</td>\n",
       "      <td>2020-05-29 03:31:13+00:00</td>\n",
       "    </tr>\n",
       "    <tr>\n",
       "      <th>18</th>\n",
       "      <td>Suppress linting on iOS? I see in http://fbinf...</td>\n",
       "      <td>2</td>\n",
       "      <td>247892795</td>\n",
       "      <td>facebook/infer</td>\n",
       "      <td>Github</td>\n",
       "      <td>https://github.com/facebook/infer/issues/709</td>\n",
       "      <td>open</td>\n",
       "      <td>2017-08-04 03:23:33+00:00</td>\n",
       "    </tr>\n",
       "    <tr>\n",
       "      <th>25</th>\n",
       "      <td>Task spotbugsMain NO-SOURCE I have gradle 8.5/...</td>\n",
       "      <td>2</td>\n",
       "      <td>2081412654</td>\n",
       "      <td>spotbugs/spotbugs</td>\n",
       "      <td>Github</td>\n",
       "      <td>https://github.com/spotbugs/spotbugs/issues/2816</td>\n",
       "      <td>closed</td>\n",
       "      <td>2024-01-15 07:31:23+00:00</td>\n",
       "    </tr>\n",
       "    <tr>\n",
       "      <th>30</th>\n",
       "      <td>[java] UnusedPrivateField cannot override igno...</td>\n",
       "      <td>2</td>\n",
       "      <td>730237419</td>\n",
       "      <td>pmd/pmd</td>\n",
       "      <td>Github</td>\n",
       "      <td>https://github.com/pmd/pmd/issues/2876</td>\n",
       "      <td>closed</td>\n",
       "      <td>2020-10-27 08:40:12+00:00</td>\n",
       "    </tr>\n",
       "    <tr>\n",
       "      <th>35</th>\n",
       "      <td>Detecting internal accessor methods I am tryin...</td>\n",
       "      <td>2</td>\n",
       "      <td>142332172</td>\n",
       "      <td>facebook/infer</td>\n",
       "      <td>Github</td>\n",
       "      <td>https://github.com/facebook/infer/issues/313</td>\n",
       "      <td>closed</td>\n",
       "      <td>2016-03-21 12:23:34+00:00</td>\n",
       "    </tr>\n",
       "  </tbody>\n",
       "</table>\n",
       "</div>"
      ],
      "text/plain": [
       "                                                 text  predictions  \\\n",
       "4   How to find execution path with real data? Hel...            2   \n",
       "18  Suppress linting on iOS? I see in http://fbinf...            2   \n",
       "25  Task spotbugsMain NO-SOURCE I have gradle 8.5/...            2   \n",
       "30  [java] UnusedPrivateField cannot override igno...            2   \n",
       "35  Detecting internal accessor methods I am tryin...            2   \n",
       "\n",
       "            id               repo    host  \\\n",
       "4    626971967      soot-oss/soot  Github   \n",
       "18   247892795     facebook/infer  Github   \n",
       "25  2081412654  spotbugs/spotbugs  Github   \n",
       "30   730237419            pmd/pmd  Github   \n",
       "35   142332172     facebook/infer  Github   \n",
       "\n",
       "                                                 url   state  \\\n",
       "4       https://github.com/soot-oss/soot/issues/1362    open   \n",
       "18      https://github.com/facebook/infer/issues/709    open   \n",
       "25  https://github.com/spotbugs/spotbugs/issues/2816  closed   \n",
       "30            https://github.com/pmd/pmd/issues/2876  closed   \n",
       "35      https://github.com/facebook/infer/issues/313  closed   \n",
       "\n",
       "                   created_at  \n",
       "4   2020-05-29 03:31:13+00:00  \n",
       "18  2017-08-04 03:23:33+00:00  \n",
       "25  2024-01-15 07:31:23+00:00  \n",
       "30  2020-10-27 08:40:12+00:00  \n",
       "35  2016-03-21 12:23:34+00:00  "
      ]
     },
     "execution_count": 13,
     "metadata": {},
     "output_type": "execute_result"
    }
   ],
   "source": [
    "question_issues.head()"
   ]
  },
  {
   "cell_type": "code",
   "execution_count": 14,
   "id": "041e4721",
   "metadata": {},
   "outputs": [],
   "source": [
    "# cluster all of the bugs\n",
    "\n",
    "# preprocess\n",
    "\n",
    "# perform diamantopoulos preprocessing\n",
    "preprocessed_issues = []\n",
    "for index, issue in question_issues.iterrows():\n",
    "    preprocessed_issues.append(diamantopoulos_preprocess(issue['text']))\n",
    "\n",
    "question_issues['preprocessed'] = preprocessed_issues"
   ]
  },
  {
   "cell_type": "code",
   "execution_count": 15,
   "id": "de6a7602",
   "metadata": {},
   "outputs": [
    {
     "name": "stderr",
     "output_type": "stream",
     "text": [
      "2025-06-03 14:56:04,059 - BERTopic - Embedding - Transforming documents to embeddings.\n",
      "Batches: 100%|██████████| 88/88 [00:35<00:00,  2.51it/s]\n",
      "2025-06-03 14:56:45,463 - BERTopic - Embedding - Completed ✓\n",
      "2025-06-03 14:56:45,465 - BERTopic - Dimensionality - Fitting the dimensionality reduction algorithm\n",
      "2025-06-03 14:57:25,082 - BERTopic - Dimensionality - Completed ✓\n",
      "2025-06-03 14:57:25,095 - BERTopic - Cluster - Start clustering the reduced embeddings\n",
      "2025-06-03 14:57:25,427 - BERTopic - Cluster - Completed ✓\n",
      "2025-06-03 14:57:25,452 - BERTopic - Representation - Extracting topics from clusters using representation models.\n",
      "2025-06-03 14:58:11,925 - BERTopic - Representation - Completed ✓\n"
     ]
    }
   ],
   "source": [
    "# bertopic\n",
    "from bertopic import BERTopic\n",
    "from umap import UMAP\n",
    "from bertopic.representation import KeyBERTInspired, PartOfSpeech, MaximalMarginalRelevance\n",
    "\n",
    "umap_model = UMAP(\n",
    "    random_state=42,\n",
    "    metric=\"cosine\",  # or \"cosine\" for cosine similarity\n",
    "    n_neighbors=15,\n",
    "    n_components=5,\n",
    "    min_dist=0.0,\n",
    "    spread=1.0,\n",
    ")\n",
    "\n",
    "representation_models = {\n",
    "    'KeyBERTInspired': KeyBERTInspired(),\n",
    "    'PartOfSpeech': PartOfSpeech(),\n",
    "    'MaximalMarginalRelevance': MaximalMarginalRelevance()\n",
    "}\n",
    "topic_model = BERTopic(\n",
    "    n_gram_range=(1, 2),\n",
    "    calculate_probabilities=True,\n",
    "    umap_model=umap_model,\n",
    "    min_topic_size=20,\n",
    "    embedding_model='all-MiniLM-L6-v2',\n",
    "    representation_model=representation_models,\n",
    "    verbose=True\n",
    ")\n",
    "\n",
    "strings = question_issues['preprocessed'].apply(lambda x: ' '.join(x)).tolist()\n",
    "\n",
    "topics, probs = topic_model.fit_transform(strings)"
   ]
  },
  {
   "cell_type": "code",
   "execution_count": 16,
   "id": "975f8d07",
   "metadata": {},
   "outputs": [
    {
     "name": "stderr",
     "output_type": "stream",
     "text": [
      "2025-06-03 14:58:13,914 - BERTopic - WARNING: Using a custom list of topic assignments may lead to errors if topic reduction techniques are used afterwards. Make sure that manually assigning topics is the last step in the pipeline.Note that topic embeddings will also be created through weightedc-TF-IDF embeddings instead of centroid embeddings.\n"
     ]
    }
   ],
   "source": [
    "# reduce outliers\n",
    "\n",
    "new_topics = topic_model.reduce_outliers(strings, topics, probabilities=probs, strategy='probabilities')\n",
    "topic_model.update_topics(strings, topics=new_topics)"
   ]
  },
  {
   "cell_type": "code",
   "execution_count": null,
   "id": "072c33fa",
   "metadata": {},
   "outputs": [],
   "source": [
    "# generate csv so that can perform manual review\n",
    "\n",
    "manual_review = topic_model.get_topic_info()\n",
    "manual_review = manual_review.drop(columns=['Representative_Docs', 'Name'])\n",
    "manual_review['percentage'] = manual_review['Count'] / len(question_issues)\n",
    "\n",
    "# get topic for every document\n",
    "document_topics = topic_model.get_document_info(strings)\n",
    "document_topics['url'] = question_issues['url'].tolist()\n",
    "\n",
    "# for each topic, get the 5 highest probability documents\n",
    "def get_top_documents_url(topic):\n",
    "    return document_topics[document_topics['Topic'] == topic].nlargest(5, 'Probability')\n",
    "top_documents = ['\\n'.join(get_top_documents_url(topic)['url']) for topic in manual_review['Topic']]\n",
    "manual_review['top_documents'] = top_documents\n",
    "\n",
    "# create a column for the topic name that is empty\n",
    "manual_review['Topic Label (to be filled in by reviewer)'] = ''\n",
    "\n",
    "manual_review.to_csv('../../../results/csv/feature_topic_modeling/questions/questions_manual_review.csv', index=False)"
   ]
  },
  {
   "cell_type": "code",
   "execution_count": null,
   "id": "7782ba3e",
   "metadata": {},
   "outputs": [],
   "source": [
    "# save document topics\n",
    "document_topics_df = document_topics[['Topic', 'Probability', 'url']]\n",
    "document_topics_df['id'] = question_issues['id'].tolist()\n",
    "document_topics_df['repo'] = question_issues['repo'].tolist()\n",
    "\n",
    "document_topics_df.to_csv('../../../results/csv/feature_topic_modeling/questions/questions_document_topics.csv', index=False)"
   ]
  }
 ],
 "metadata": {
  "kernelspec": {
   "display_name": ".venv",
   "language": "python",
   "name": "python3"
  },
  "language_info": {
   "codemirror_mode": {
    "name": "ipython",
    "version": 3
   },
   "file_extension": ".py",
   "mimetype": "text/x-python",
   "name": "python",
   "nbconvert_exporter": "python",
   "pygments_lexer": "ipython3",
   "version": "3.9.6"
  }
 },
 "nbformat": 4,
 "nbformat_minor": 5
}
