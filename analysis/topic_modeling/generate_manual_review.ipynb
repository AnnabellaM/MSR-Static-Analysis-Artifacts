{
 "cells": [
  {
   "cell_type": "code",
   "execution_count": null,
   "id": "9397cfdf",
   "metadata": {},
   "outputs": [],
   "source": [
    "import pandas as pd\n",
    "\n",
    "bugs_results = pd.read_csv('../../results/csv/feature_topic_modeling/bugs/bugs_document_topics.csv')\n",
    "enhancements_results = pd.read_csv('../../results/csv/feature_topic_modeling/enhancements/enhancement_document_topics.csv')\n",
    "questions_results = pd.read_csv('../../results/csv/feature_topic_modeling/questions/questions_document_topics.csv')\n",
    "\n",
    "bugs_manual_review = pd.read_csv('../../results/csv/feature_topic_modeling/bugs/bugs_manual_review.csv')\n",
    "enhancements_manual_review = pd.read_csv('../../results/csv/feature_topic_modeling/enhancements/enhancements_manual_review.csv')\n",
    "questions_manual_review = pd.read_csv('../../results/csv/feature_topic_modeling/questions/questions_manual_review.csv')"
   ]
  },
  {
   "cell_type": "code",
   "execution_count": null,
   "id": "1ed33b91",
   "metadata": {},
   "outputs": [],
   "source": [
    "# bugs add counts for each topic\n",
    "\n",
    "interest_group_counts = []\n",
    "\n",
    "for index, topic in bugs_manual_review.iterrows():\n",
    "    topic_number = topic['Topic']\n",
    "    # get the count for each interest group per topic\n",
    "    # interest group is the last 6 columns in the results dataframe\n",
    "    interest_groups = bugs_results.iloc[:, -6:]\n",
    "    # get the count for the topic\n",
    "    topic_count = bugs_results[bugs_results['Topic'] == topic_number].iloc[:, -6:].sum()\n",
    "\n",
    "    interest_group_counts.append(topic_count.to_dict())\n",
    "\n",
    "interest_group_counts_df = pd.DataFrame(interest_group_counts)\n",
    "\n",
    "# merge the interest group counts with the manual review dataframe side by side\n",
    "merged_bugs = pd.concat([bugs_manual_review, interest_group_counts_df], axis=1)\n",
    "merged_bugs.to_csv('../../results/csv/feature_topic_modeling/bugs/bugs_manual_review.csv', index=False)"
   ]
  },
  {
   "cell_type": "code",
   "execution_count": null,
   "id": "6afd94cb",
   "metadata": {},
   "outputs": [],
   "source": [
    "# same for enhancements\n",
    "interest_group_counts = []\n",
    "for index, topic in enhancements_manual_review.iterrows():\n",
    "    topic_number = topic['Topic']\n",
    "    # get the count for each interest group per topic\n",
    "    interest_groups = enhancements_results.iloc[:, -6:]\n",
    "    # get the count for the topic\n",
    "    topic_count = enhancements_results[enhancements_results['Topic'] == topic_number].iloc[:, -6:].sum()\n",
    "\n",
    "    interest_group_counts.append(topic_count.to_dict())\n",
    "interest_group_counts_df = pd.DataFrame(interest_group_counts)\n",
    "# merge the interest group counts with the manual review dataframe side by side\n",
    "merged_enhancements = pd.concat([enhancements_manual_review, interest_group_counts_df], axis=1)\n",
    "merged_enhancements.to_csv('../../results/csv/feature_topic_modeling/enhancements/enhancements_manual_review.csv', index=False)"
   ]
  },
  {
   "cell_type": "code",
   "execution_count": null,
   "id": "b9bf89db",
   "metadata": {},
   "outputs": [],
   "source": [
    "# same for questions\n",
    "interest_group_counts = []\n",
    "for index, topic in questions_manual_review.iterrows():\n",
    "    topic_number = topic['Topic']\n",
    "    # get the count for each interest group per topic\n",
    "    interest_groups = questions_results.iloc[:, -6:]\n",
    "    # get the count for the topic\n",
    "    topic_count = questions_results[questions_results['Topic'] == topic_number].iloc[:, -6:].sum()\n",
    "\n",
    "    interest_group_counts.append(topic_count.to_dict())\n",
    "interest_group_counts_df = pd.DataFrame(interest_group_counts)\n",
    "# merge the interest group counts with the manual review dataframe side by side\n",
    "merged_questions = pd.concat([questions_manual_review, interest_group_counts_df], axis=1)\n",
    "merged_questions.to_csv('../../results/csv/feature_topic_modeling/questions/questions_manual_review.csv', index=False)"
   ]
  }
 ],
 "metadata": {
  "kernelspec": {
   "display_name": ".venv",
   "language": "python",
   "name": "python3"
  },
  "language_info": {
   "codemirror_mode": {
    "name": "ipython",
    "version": 3
   },
   "file_extension": ".py",
   "mimetype": "text/x-python",
   "name": "python",
   "nbconvert_exporter": "python",
   "pygments_lexer": "ipython3",
   "version": "3.9.6"
  }
 },
 "nbformat": 4,
 "nbformat_minor": 5
}
