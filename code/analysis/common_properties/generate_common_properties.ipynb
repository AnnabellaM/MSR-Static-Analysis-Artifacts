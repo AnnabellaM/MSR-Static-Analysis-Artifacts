{
 "cells": [
  {
   "cell_type": "code",
   "execution_count": null,
   "id": "07bcf91b",
   "metadata": {},
   "outputs": [],
   "source": [
    "import matplotlib.pyplot as plt\n",
    "import pandas as pd\n",
    "from tqdm import tqdm\n",
    "import sys\n",
    "sys.path.append('../../')\n",
    "from utils.dataloader import get_issues, get_commits, get_pull_requests"
   ]
  },
  {
   "cell_type": "code",
   "execution_count": null,
   "id": "345ee2da",
   "metadata": {},
   "outputs": [],
   "source": [
    "issues = get_issues(filter=\"metadata\")\n",
    "commits = get_commits()\n",
    "pull_requests = get_pull_requests()"
   ]
  },
  {
   "cell_type": "code",
   "execution_count": 21,
   "id": "549098e8",
   "metadata": {},
   "outputs": [],
   "source": [
    "# Q1. The distribution of the status of the issues\n",
    "\n",
    "# state mappings (bitbucket)\n",
    "# New -> open\n",
    "# Duplicate -> closed\n",
    "# Resolved -> closed\n",
    "issues['prop:state'] = issues['state'].replace({'new': 'open', 'duplicate': 'closed', 'resolved': 'closed'})"
   ]
  },
  {
   "cell_type": "code",
   "execution_count": 22,
   "id": "accc3afb",
   "metadata": {},
   "outputs": [],
   "source": [
    "# Q2. The distribution of the issues by type (bug, enhancement, etc.)\n",
    "# located in the catiss_classification folder in analysis/issues/catiss_classification"
   ]
  },
  {
   "cell_type": "code",
   "execution_count": 23,
   "id": "d2b2d8b3",
   "metadata": {},
   "outputs": [
    {
     "name": "stdout",
     "output_type": "stream",
     "text": [
      "20th Percentile (Open Issues): 361.6475810185185 days\n",
      "80th Percentile (Open Issues): 2081.7269675925927 days\n",
      "20th Percentile (Closed Issues): 0.07823148148148158 days\n",
      "80th Percentile (Closed Issues): 161.9828217592594 days\n"
     ]
    }
   ],
   "source": [
    "# Q3. The distribution of the time taken to resolve issues\n",
    "\n",
    "resolution_times = []\n",
    "\n",
    "for index, issue in issues.iterrows():\n",
    "    # closed issues only\n",
    "    closed_at = issue['closed_at']\n",
    "    created_at = issue['created_at']\n",
    "    if (\n",
    "        closed_at not in [None, '', 'None']\n",
    "        and created_at not in [None, '', 'None']\n",
    "    ):\n",
    "        created_dt = pd.to_datetime(created_at, utc=True)\n",
    "\n",
    "        # time in days\n",
    "        if issue['host'] == \"Github\":\n",
    "            closed_dt = pd.to_datetime(closed_at, utc=True)\n",
    "        else:\n",
    "            # Bitbucket\n",
    "            closed_dt = pd.to_datetime(issue['updated_on'], utc=True)\n",
    "\n",
    "        resolution_time = closed_dt - created_dt\n",
    "        resolution_times.append(resolution_time.total_seconds() / 86400)  # convert to days\n",
    "    else:\n",
    "        # time is from issue creation to June 2\n",
    "        created_dt = pd.to_datetime(created_at, utc=True)\n",
    "        end_dt = pd.to_datetime('2025-06-02', utc=True)\n",
    "        resolution_time = end_dt - created_dt\n",
    "        resolution_times.append(resolution_time.total_seconds() / 86400)\n",
    "\n",
    "issues['prop:resolution'] = resolution_times\n",
    "\n",
    "# overlapping\n",
    "open_issues = issues[issues['prop:state'] == 'open']\n",
    "closed_issues = issues[issues['prop:state'] == 'closed']\n",
    "\n",
    "print(f\"20th Percentile (Open Issues): {open_issues['prop:resolution'].quantile(0.2)} days\")\n",
    "print(f\"80th Percentile (Open Issues): {open_issues['prop:resolution'].quantile(0.8)} days\")\n",
    "print(f\"20th Percentile (Closed Issues): {closed_issues['prop:resolution'].quantile(0.2)} days\")\n",
    "print(f\"80th Percentile (Closed Issues): {closed_issues['prop:resolution'].quantile(0.8)} days\")"
   ]
  },
  {
   "cell_type": "code",
   "execution_count": 24,
   "id": "3457b9b0",
   "metadata": {},
   "outputs": [
    {
     "name": "stdout",
     "output_type": "stream",
     "text": [
      "20% Percentile: 1.0\n",
      "80% Percentile: 5.0\n"
     ]
    }
   ],
   "source": [
    "# Q4. The distribution of the number of comments for each issue\n",
    "comment_counts = []\n",
    "\n",
    "for index, issue in issues.iterrows():\n",
    "    if issue['host'] == \"Github\":\n",
    "        # Github\n",
    "        timeline_events = issue['timeline']\n",
    "        comments = [event for event in timeline_events if event['event'] == 'commented']\n",
    "        comment_counts.append(len(comments))\n",
    "    else:\n",
    "        # bitbucket\n",
    "        comment_counts.append(len(issue['comments']))\n",
    "\n",
    "issues['prop:comments'] = comment_counts\n",
    "\n",
    "print(f\"20% Percentile: {issues['prop:comments'].quantile(0.2)}\")\n",
    "print(f\"80% Percentile: {issues['prop:comments'].quantile(0.8)}\")"
   ]
  },
  {
   "cell_type": "code",
   "execution_count": 25,
   "id": "c4a0a3cb",
   "metadata": {},
   "outputs": [
    {
     "name": "stdout",
     "output_type": "stream",
     "text": [
      "20th Percentile: 1.0\n",
      "80th Percentile: 3.0\n"
     ]
    }
   ],
   "source": [
    "# Q5. The distribution of the number of unqiue users participating in each issue\n",
    "user_participation_counts = []\n",
    "\n",
    "for index, issue in issues.iterrows():\n",
    "    if issue['host'] == \"Github\":\n",
    "        # Github\n",
    "        timeline_events = issue['timeline']\n",
    "        users = set()\n",
    "        users.add(issue['user'])\n",
    "        for event in timeline_events:\n",
    "            if event['event'] == 'commented':\n",
    "                # ensure doesn't end with [bot]\n",
    "                if 'actor' in event and 'login' in event['actor']:\n",
    "                    if event['actor']['login'].endswith('[bot]'):\n",
    "                        continue\n",
    "                    users.add(event['actor']['login'])\n",
    "        user_participation_counts.append(len(users))\n",
    "    else:\n",
    "        # bitbucket\n",
    "        users = set()\n",
    "        users.add(issue['user'])\n",
    "        for comment in issue['comments']:\n",
    "            users.add(comment['user']['uuid'])\n",
    "        user_participation_counts.append(len(users))\n",
    "        \n",
    "issues['prop:users'] = user_participation_counts\n",
    "\n",
    "print(f\"20th Percentile: {issues['prop:users'].quantile(0.2)}\")\n",
    "print(f\"80th Percentile: {issues['prop:users'].quantile(0.8)}\")"
   ]
  },
  {
   "cell_type": "code",
   "execution_count": 27,
   "id": "25cb5003",
   "metadata": {},
   "outputs": [
    {
     "name": "stderr",
     "output_type": "stream",
     "text": [
      "  0%|          | 0/19225 [00:00<?, ?it/s]"
     ]
    },
    {
     "name": "stderr",
     "output_type": "stream",
     "text": [
      "100%|██████████| 19225/19225 [23:40<00:00, 13.53it/s]  \n"
     ]
    }
   ],
   "source": [
    "# Q9. The distribution of the number of files changed per issue based on linked pull requests and commits\n",
    "# Q10. The distribution of the number of lines changed per issue based on linked pull requests and commits\n",
    "num_lines_changed = []\n",
    "num_files_changed = []\n",
    "\n",
    "for index, issue in tqdm(issues.iterrows(), total=issues.shape[0]):\n",
    "    if issue['host'] == \"Github\":\n",
    "        changes_count = 0\n",
    "        unique_files = set()\n",
    "\n",
    "        referenced_commits = set()\n",
    "\n",
    "        for event in issue['timeline']:\n",
    "            # check for prs\n",
    "            if event['event'] == 'cross-referenced' and 'pull' in event['source']['issue']['html_url']:\n",
    "                # find the corresponding pull request in the pull_requests DataFrame\n",
    "                pr_data = pull_requests[pull_requests['html_url'] == event['source']['issue']['html_url']]\n",
    "\n",
    "                if not pr_data.empty:\n",
    "                    for commit in pr_data['commits'].iloc[0]:\n",
    "                        # search for the commit in the commits DataFrame\n",
    "                        commit_sha = commit['sha']\n",
    "                        # check if the commit has already been counted\n",
    "                        if commit_sha in referenced_commits:\n",
    "                            continue\n",
    "                        referenced_commits.add(commit_sha)\n",
    "\n",
    "                        commit_data = commits[commits['sha'] == commit_sha]\n",
    "                        if not commit_data.empty:\n",
    "                            # get the number of files changed in the commit\n",
    "                            unique_files.update(file['filename'] for file in commit_data['files'].iloc[0])\n",
    "\n",
    "                            for file in commit_data['files'].iloc[0]:\n",
    "                                changes_count += file['changes']\n",
    "            # check for referenced commits\n",
    "            elif event['event'] == 'referenced':\n",
    "                commit_sha = event['commit_id']\n",
    "                # check if the commit has already been counted\n",
    "                if commit_sha in referenced_commits:\n",
    "                    continue\n",
    "                referenced_commits.add(commit_sha)\n",
    "                commit_data = commits[commits['sha'] == commit_sha]\n",
    "                if not commit_data.empty:\n",
    "                    unique_files.update(file['filename'] for file in commit_data['files'].iloc[0])\n",
    "\n",
    "                    # get the number of files changed in the commit\n",
    "                    for file in commit_data['files'].iloc[0]:\n",
    "                        changes_count += file['changes']\n",
    "\n",
    "        num_lines_changed.append(changes_count)\n",
    "        num_files_changed.append(len(unique_files))\n",
    "    else:\n",
    "        num_lines_changed.append(0)\n",
    "        num_files_changed.append(0)"
   ]
  },
  {
   "cell_type": "code",
   "execution_count": 28,
   "id": "1711c641",
   "metadata": {},
   "outputs": [
    {
     "name": "stdout",
     "output_type": "stream",
     "text": [
      "20% Files Changed: 2.0\n",
      "80% Files Changed: 36.0\n"
     ]
    }
   ],
   "source": [
    "issues['prop:files'] = num_files_changed\n",
    "\n",
    "# Only consider non-zero values for percentiles\n",
    "nonzero_files_changed = issues[issues['prop:files'] > 0]['prop:files']\n",
    "\n",
    "# add line at 20% and 80% percentile of all the issues\n",
    "percentile_20 = nonzero_files_changed.quantile(0.2)\n",
    "percentile_80 = nonzero_files_changed.quantile(0.8)\n",
    "\n",
    "print(f\"20% Files Changed: {percentile_20}\")\n",
    "print(f\"80% Files Changed: {percentile_80}\")"
   ]
  },
  {
   "cell_type": "code",
   "execution_count": 29,
   "id": "5272796b",
   "metadata": {},
   "outputs": [
    {
     "name": "stdout",
     "output_type": "stream",
     "text": [
      "20% Lines Changed (nonzero): 23.0\n",
      "80% Lines Changed (nonzero): 1329.2000000000025\n"
     ]
    }
   ],
   "source": [
    "issues['prop:loc'] = num_lines_changed\n",
    "\n",
    "# Only consider non-zero values for percentiles\n",
    "nonzero_lines_changed = issues[issues['prop:loc'] > 0]['prop:loc']\n",
    "percentile_20 = nonzero_lines_changed.quantile(0.2)\n",
    "percentile_80 = nonzero_lines_changed.quantile(0.8)\n",
    "\n",
    "print(f\"20% Lines Changed (nonzero): {percentile_20}\")\n",
    "print(f\"80% Lines Changed (nonzero): {percentile_80}\")"
   ]
  },
  {
   "cell_type": "code",
   "execution_count": null,
   "id": "1bdecdc1",
   "metadata": {},
   "outputs": [],
   "source": [
    "issues = issues[['id', 'repo', 'host', 'prop:state', 'prop:resolution', 'prop:comments', 'prop:users', 'prop:files', 'prop:loc']]\n",
    "issues.to_csv('../../../data/issues_properties.csv', index=False)"
   ]
  }
 ],
 "metadata": {
  "kernelspec": {
   "display_name": ".venv",
   "language": "python",
   "name": "python3"
  },
  "language_info": {
   "codemirror_mode": {
    "name": "ipython",
    "version": 3
   },
   "file_extension": ".py",
   "mimetype": "text/x-python",
   "name": "python",
   "nbconvert_exporter": "python",
   "pygments_lexer": "ipython3",
   "version": "3.9.6"
  }
 },
 "nbformat": 4,
 "nbformat_minor": 5
}
