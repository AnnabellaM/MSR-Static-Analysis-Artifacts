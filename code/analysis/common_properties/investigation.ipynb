{
 "cells": [
  {
   "cell_type": "code",
   "execution_count": null,
   "id": "b1907b77",
   "metadata": {},
   "outputs": [
    {
     "data": {
      "application/vnd.microsoft.datawrangler.viewer.v0+json": {
       "columns": [
        {
         "name": "index",
         "rawType": "int64",
         "type": "integer"
        },
        {
         "name": "repo",
         "rawType": "object",
         "type": "string"
        },
        {
         "name": "id",
         "rawType": "int64",
         "type": "integer"
        },
        {
         "name": "host",
         "rawType": "object",
         "type": "string"
        },
        {
         "name": "type",
         "rawType": "object",
         "type": "string"
        },
        {
         "name": "html_url",
         "rawType": "object",
         "type": "string"
        },
        {
         "name": "state",
         "rawType": "object",
         "type": "string"
        },
        {
         "name": "resolution_time",
         "rawType": "float64",
         "type": "float"
        },
        {
         "name": "comment_count",
         "rawType": "int64",
         "type": "integer"
        },
        {
         "name": "user_participation_count",
         "rawType": "int64",
         "type": "integer"
        },
        {
         "name": "raised_by",
         "rawType": "object",
         "type": "string"
        },
        {
         "name": "num_linked_prs",
         "rawType": "int64",
         "type": "integer"
        },
        {
         "name": "num_linked_commits",
         "rawType": "int64",
         "type": "integer"
        },
        {
         "name": "num_files_changed",
         "rawType": "int64",
         "type": "integer"
        },
        {
         "name": "num_lines_changed",
         "rawType": "int64",
         "type": "integer"
        },
        {
         "name": "first_time_issue",
         "rawType": "bool",
         "type": "boolean"
        }
       ],
       "ref": "a4d826a3-b4dc-47d8-b265-07d31fe14673",
       "rows": [
        [
         "0",
         "phpstan/phpstan",
         "956670809",
         "Github",
         "issue",
         "https://github.com/phpstan/phpstan/issues/5397",
         "closed",
         "0.0010763888888888",
         "2",
         "2",
         "user",
         "0",
         "0",
         "0",
         "0",
         "False"
        ],
        [
         "1",
         "phpstan/phpstan",
         "630047976",
         "Github",
         "issue",
         "https://github.com/phpstan/phpstan/issues/3390",
         "closed",
         "1.016724537037037",
         "2",
         "2",
         "user",
         "0",
         "0",
         "0",
         "0",
         "False"
        ],
        [
         "2",
         "phpstan/phpstan",
         "2195682164",
         "Github",
         "issue",
         "https://github.com/phpstan/phpstan/issues/10757",
         "closed",
         "8.700925925925926",
         "19",
         "3",
         "user",
         "0",
         "1",
         "0",
         "0",
         "False"
        ],
        [
         "3",
         "phpstan/phpstan",
         "2432540714",
         "Github",
         "issue",
         "https://github.com/phpstan/phpstan/issues/11398",
         "closed",
         "0.2541782407407407",
         "5",
         "2",
         "user",
         "0",
         "0",
         "0",
         "0",
         "False"
        ],
        [
         "4",
         "soot-oss/soot",
         "626971967",
         "Github",
         "issue",
         "https://github.com/soot-oss/soot/issues/1362",
         "open",
         "1829.8533217592592",
         "1",
         "1",
         "user",
         "0",
         "0",
         "0",
         "0",
         "False"
        ]
       ],
       "shape": {
        "columns": 15,
        "rows": 5
       }
      },
      "text/html": [
       "<div>\n",
       "<style scoped>\n",
       "    .dataframe tbody tr th:only-of-type {\n",
       "        vertical-align: middle;\n",
       "    }\n",
       "\n",
       "    .dataframe tbody tr th {\n",
       "        vertical-align: top;\n",
       "    }\n",
       "\n",
       "    .dataframe thead th {\n",
       "        text-align: right;\n",
       "    }\n",
       "</style>\n",
       "<table border=\"1\" class=\"dataframe\">\n",
       "  <thead>\n",
       "    <tr style=\"text-align: right;\">\n",
       "      <th></th>\n",
       "      <th>repo</th>\n",
       "      <th>id</th>\n",
       "      <th>host</th>\n",
       "      <th>type</th>\n",
       "      <th>html_url</th>\n",
       "      <th>state</th>\n",
       "      <th>resolution_time</th>\n",
       "      <th>comment_count</th>\n",
       "      <th>user_participation_count</th>\n",
       "      <th>raised_by</th>\n",
       "      <th>num_linked_prs</th>\n",
       "      <th>num_linked_commits</th>\n",
       "      <th>num_files_changed</th>\n",
       "      <th>num_lines_changed</th>\n",
       "      <th>first_time_issue</th>\n",
       "    </tr>\n",
       "  </thead>\n",
       "  <tbody>\n",
       "    <tr>\n",
       "      <th>0</th>\n",
       "      <td>phpstan/phpstan</td>\n",
       "      <td>956670809</td>\n",
       "      <td>Github</td>\n",
       "      <td>issue</td>\n",
       "      <td>https://github.com/phpstan/phpstan/issues/5397</td>\n",
       "      <td>closed</td>\n",
       "      <td>0.001076</td>\n",
       "      <td>2</td>\n",
       "      <td>2</td>\n",
       "      <td>user</td>\n",
       "      <td>0</td>\n",
       "      <td>0</td>\n",
       "      <td>0</td>\n",
       "      <td>0</td>\n",
       "      <td>False</td>\n",
       "    </tr>\n",
       "    <tr>\n",
       "      <th>1</th>\n",
       "      <td>phpstan/phpstan</td>\n",
       "      <td>630047976</td>\n",
       "      <td>Github</td>\n",
       "      <td>issue</td>\n",
       "      <td>https://github.com/phpstan/phpstan/issues/3390</td>\n",
       "      <td>closed</td>\n",
       "      <td>1.016725</td>\n",
       "      <td>2</td>\n",
       "      <td>2</td>\n",
       "      <td>user</td>\n",
       "      <td>0</td>\n",
       "      <td>0</td>\n",
       "      <td>0</td>\n",
       "      <td>0</td>\n",
       "      <td>False</td>\n",
       "    </tr>\n",
       "    <tr>\n",
       "      <th>2</th>\n",
       "      <td>phpstan/phpstan</td>\n",
       "      <td>2195682164</td>\n",
       "      <td>Github</td>\n",
       "      <td>issue</td>\n",
       "      <td>https://github.com/phpstan/phpstan/issues/10757</td>\n",
       "      <td>closed</td>\n",
       "      <td>8.700926</td>\n",
       "      <td>19</td>\n",
       "      <td>3</td>\n",
       "      <td>user</td>\n",
       "      <td>0</td>\n",
       "      <td>1</td>\n",
       "      <td>0</td>\n",
       "      <td>0</td>\n",
       "      <td>False</td>\n",
       "    </tr>\n",
       "    <tr>\n",
       "      <th>3</th>\n",
       "      <td>phpstan/phpstan</td>\n",
       "      <td>2432540714</td>\n",
       "      <td>Github</td>\n",
       "      <td>issue</td>\n",
       "      <td>https://github.com/phpstan/phpstan/issues/11398</td>\n",
       "      <td>closed</td>\n",
       "      <td>0.254178</td>\n",
       "      <td>5</td>\n",
       "      <td>2</td>\n",
       "      <td>user</td>\n",
       "      <td>0</td>\n",
       "      <td>0</td>\n",
       "      <td>0</td>\n",
       "      <td>0</td>\n",
       "      <td>False</td>\n",
       "    </tr>\n",
       "    <tr>\n",
       "      <th>4</th>\n",
       "      <td>soot-oss/soot</td>\n",
       "      <td>626971967</td>\n",
       "      <td>Github</td>\n",
       "      <td>issue</td>\n",
       "      <td>https://github.com/soot-oss/soot/issues/1362</td>\n",
       "      <td>open</td>\n",
       "      <td>1829.853322</td>\n",
       "      <td>1</td>\n",
       "      <td>1</td>\n",
       "      <td>user</td>\n",
       "      <td>0</td>\n",
       "      <td>0</td>\n",
       "      <td>0</td>\n",
       "      <td>0</td>\n",
       "      <td>False</td>\n",
       "    </tr>\n",
       "  </tbody>\n",
       "</table>\n",
       "</div>"
      ],
      "text/plain": [
       "              repo          id    host   type  \\\n",
       "0  phpstan/phpstan   956670809  Github  issue   \n",
       "1  phpstan/phpstan   630047976  Github  issue   \n",
       "2  phpstan/phpstan  2195682164  Github  issue   \n",
       "3  phpstan/phpstan  2432540714  Github  issue   \n",
       "4    soot-oss/soot   626971967  Github  issue   \n",
       "\n",
       "                                          html_url   state  resolution_time  \\\n",
       "0   https://github.com/phpstan/phpstan/issues/5397  closed         0.001076   \n",
       "1   https://github.com/phpstan/phpstan/issues/3390  closed         1.016725   \n",
       "2  https://github.com/phpstan/phpstan/issues/10757  closed         8.700926   \n",
       "3  https://github.com/phpstan/phpstan/issues/11398  closed         0.254178   \n",
       "4     https://github.com/soot-oss/soot/issues/1362    open      1829.853322   \n",
       "\n",
       "   comment_count  user_participation_count raised_by  num_linked_prs  \\\n",
       "0              2                         2      user               0   \n",
       "1              2                         2      user               0   \n",
       "2             19                         3      user               0   \n",
       "3              5                         2      user               0   \n",
       "4              1                         1      user               0   \n",
       "\n",
       "   num_linked_commits  num_files_changed  num_lines_changed  first_time_issue  \n",
       "0                   0                  0                  0             False  \n",
       "1                   0                  0                  0             False  \n",
       "2                   1                  0                  0             False  \n",
       "3                   0                  0                  0             False  \n",
       "4                   0                  0                  0             False  "
      ]
     },
     "execution_count": 28,
     "metadata": {},
     "output_type": "execute_result"
    }
   ],
   "source": [
    "import pandas as pd\n",
    "import matplotlib.pyplot as plt\n",
    "import sys\n",
    "\n",
    "sys.path.append('../../')\n",
    "from utils.dataloader import get_issues\n",
    "\n",
    "issues_common_properties = get_issues()\n",
    "\n",
    "issues_common_properties.head()"
   ]
  },
  {
   "cell_type": "code",
   "execution_count": null,
   "id": "a93974a3",
   "metadata": {},
   "outputs": [],
   "source": [
    "# pmd and soot get the issues with most LoC\n",
    "issues_common_properties = issues_common_properties.sort_values(by='num_lines_changed', ascending=False)\n",
    "issues_common_properties[['id', 'repo', 'num_lines_changed', 'num_files_changed', 'num_linked_prs', 'num_linked_commits', 'html_url']].head(20).to_csv('../../../results/csv/common_properties/investigation.csv', index=False)"
   ]
  }
 ],
 "metadata": {
  "kernelspec": {
   "display_name": ".venv",
   "language": "python",
   "name": "python3"
  },
  "language_info": {
   "codemirror_mode": {
    "name": "ipython",
    "version": 3
   },
   "file_extension": ".py",
   "mimetype": "text/x-python",
   "name": "python",
   "nbconvert_exporter": "python",
   "pygments_lexer": "ipython3",
   "version": "3.9.6"
  }
 },
 "nbformat": 4,
 "nbformat_minor": 5
}
