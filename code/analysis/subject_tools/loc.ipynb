{
 "cells": [
  {
   "cell_type": "code",
   "execution_count": null,
   "id": "7be27da3",
   "metadata": {},
   "outputs": [],
   "source": [
    "from github import Github\n",
    "from github import Auth\n",
    "from dotenv import dotenv_values\n",
    "import pandas as pd\n",
    "import sys\n",
    "import subprocess\n",
    "sys.path.append('../../')\n",
    "from utils.constants import DATA_DOWNLOAD_DATE\n",
    "from utils.dataloader import get_repos\n",
    "\n",
    "config = dotenv_values(\"../../../.env\")\n",
    "auth = Auth.Token(config['GITHUB_TOKEN'])\n",
    "gh = Github(auth=auth)\n",
    "\n",
    "repositories = get_repos()"
   ]
  },
  {
   "cell_type": "code",
   "execution_count": null,
   "id": "4e47aaad",
   "metadata": {},
   "outputs": [
    {
     "name": "stdout",
     "output_type": "stream",
     "text": [
      "Downloading soot-oss/soot at commit 36269c759a2bfc99ed7cafa2bd1a1389af24581c...\n"
     ]
    },
    {
     "name": "stderr",
     "output_type": "stream",
     "text": [
      "Cloning into '../../data/github/soot-oss_soot'...\n",
      "Note: switching to '36269c759a2bfc99ed7cafa2bd1a1389af24581c'.\n",
      "\n",
      "You are in 'detached HEAD' state. You can look around, make experimental\n",
      "changes and commit them, and you can discard any commits you make in this\n",
      "state without impacting any branches by switching back to a branch.\n",
      "\n",
      "If you want to create a new branch to retain commits you create, you may\n",
      "do so (now or later) by using -c with the switch command. Example:\n",
      "\n",
      "  git switch -c <new-branch-name>\n",
      "\n",
      "Or undo this operation with:\n",
      "\n",
      "  git switch -\n",
      "\n",
      "Turn off this advice by setting config variable advice.detachedHead to false\n",
      "\n",
      "HEAD is now at 36269c759a2 Merge pull request #2166 from MarcMil/opt\n"
     ]
    },
    {
     "name": "stdout",
     "output_type": "stream",
     "text": [
      "M\ttutorial/guide/examples/analysis_framework/src/dk/brics/soot/GenHelloWorld.java\n",
      "M\ttutorial/guide/examples/analysis_framework/src/dk/brics/soot/RunLiveAnalysis.java\n",
      "M\ttutorial/guide/examples/analysis_framework/src/dk/brics/soot/RunVeryBusyAnalysis.java\n",
      "M\ttutorial/guide/examples/analysis_framework/src/dk/brics/soot/analyses/FlowAnalysisTemplate.java\n",
      "M\ttutorial/guide/examples/analysis_framework/src/dk/brics/soot/analyses/SimpleVeryBusyExpressions.java\n",
      "M\ttutorial/guide/examples/analysis_framework/src/dk/brics/soot/analyses/VeryBusyExpressions.java\n",
      "M\ttutorial/guide/examples/analysis_framework/src/dk/brics/soot/annotations/TagBusyExpressions.java\n",
      "M\ttutorial/guide/examples/analysis_framework/src/dk/brics/soot/flowsets/ValueArraySparseSet.java\n",
      "M\ttutorial/guide/examples/analysis_framework/src/dk/brics/soot/transformations/VeryBusyExpsTagger.java\n",
      "M\ttutorial/guide/examples/analysis_framework/src/testers/LiveVarsClass.java\n",
      "M\ttutorial/guide/examples/analysis_framework/src/testers/VeryBusyClass.java\n",
      "M\ttutorial/guide/examples/call_graph/src/testers/CallGraphs.java\n",
      "Downloading soot-oss/SootUp at commit 980b110574165b0ca68060d0375324de7b322066...\n"
     ]
    },
    {
     "name": "stderr",
     "output_type": "stream",
     "text": [
      "Cloning into '../../data/github/soot-oss_SootUp'...\n",
      "Note: switching to '980b110574165b0ca68060d0375324de7b322066'.\n",
      "\n",
      "You are in 'detached HEAD' state. You can look around, make experimental\n",
      "changes and commit them, and you can discard any commits you make in this\n",
      "state without impacting any branches by switching back to a branch.\n",
      "\n",
      "If you want to create a new branch to retain commits you create, you may\n",
      "do so (now or later) by using -c with the switch command. Example:\n",
      "\n",
      "  git switch -c <new-branch-name>\n",
      "\n",
      "Or undo this operation with:\n",
      "\n",
      "  git switch -\n",
      "\n",
      "Turn off this advice by setting config variable advice.detachedHead to false\n",
      "\n",
      "HEAD is now at 980b110574 Merge pull request #1286 from soot-oss/756-make-jimpleanalysisinputlocation-compatible-with-javaview\n"
     ]
    },
    {
     "name": "stdout",
     "output_type": "stream",
     "text": [
      "Downloading wala/WALA at commit 9336758012cc7565a524ecae8067a86a9959d37b...\n"
     ]
    },
    {
     "name": "stderr",
     "output_type": "stream",
     "text": [
      "Cloning into '../../data/github/wala_WALA'...\n",
      "Note: switching to '9336758012cc7565a524ecae8067a86a9959d37b'.\n",
      "\n",
      "You are in 'detached HEAD' state. You can look around, make experimental\n",
      "changes and commit them, and you can discard any commits you make in this\n",
      "state without impacting any branches by switching back to a branch.\n",
      "\n",
      "If you want to create a new branch to retain commits you create, you may\n",
      "do so (now or later) by using -c with the switch command. Example:\n",
      "\n",
      "  git switch -c <new-branch-name>\n",
      "\n",
      "Or undo this operation with:\n",
      "\n",
      "  git switch -\n",
      "\n",
      "Turn off this advice by setting config variable advice.detachedHead to false\n",
      "\n",
      "HEAD is now at 933675801 Fix issue 1515 (#1516)\n"
     ]
    },
    {
     "name": "stdout",
     "output_type": "stream",
     "text": [
      "Downloading secure-software-engineering/FlowDroid at commit 70aa5b3f938726a8dd6685eae09c84196432c6d6...\n"
     ]
    },
    {
     "name": "stderr",
     "output_type": "stream",
     "text": [
      "Cloning into '../../data/github/secure-software-engineering_FlowDroid'...\n",
      "Note: switching to '70aa5b3f938726a8dd6685eae09c84196432c6d6'.\n",
      "\n",
      "You are in 'detached HEAD' state. You can look around, make experimental\n",
      "changes and commit them, and you can discard any commits you make in this\n",
      "state without impacting any branches by switching back to a branch.\n",
      "\n",
      "If you want to create a new branch to retain commits you create, you may\n",
      "do so (now or later) by using -c with the switch command. Example:\n",
      "\n",
      "  git switch -c <new-branch-name>\n",
      "\n",
      "Or undo this operation with:\n",
      "\n",
      "  git switch -\n",
      "\n",
      "Turn off this advice by setting config variable advice.detachedHead to false\n",
      "\n",
      "HEAD is now at 70aa5b3f Merge pull request #820 from secure-software-engineering/dependabot/maven/soot-infoflow/org.springframework-spring-web-6.1.14\n"
     ]
    },
    {
     "name": "stdout",
     "output_type": "stream",
     "text": [
      "Downloading secure-software-engineering/phasar at commit ed7995aad6c0628eee94f32a5477be0b120ada6a...\n"
     ]
    },
    {
     "name": "stderr",
     "output_type": "stream",
     "text": [
      "Cloning into '../../data/github/secure-software-engineering_phasar'...\n",
      "Note: switching to 'ed7995aad6c0628eee94f32a5477be0b120ada6a'.\n",
      "\n",
      "You are in 'detached HEAD' state. You can look around, make experimental\n",
      "changes and commit them, and you can discard any commits you make in this\n",
      "state without impacting any branches by switching back to a branch.\n",
      "\n",
      "If you want to create a new branch to retain commits you create, you may\n",
      "do so (now or later) by using -c with the switch command. Example:\n",
      "\n",
      "  git switch -c <new-branch-name>\n",
      "\n",
      "Or undo this operation with:\n",
      "\n",
      "  git switch -\n",
      "\n",
      "Turn off this advice by setting config variable advice.detachedHead to false\n",
      "\n",
      "HEAD is now at ed7995aad Improved Code Documentation (#771)\n"
     ]
    },
    {
     "name": "stdout",
     "output_type": "stream",
     "text": [
      "Downloading opalj/opal at commit df762abb6deeb81965f04834faf93fa88208263a...\n"
     ]
    },
    {
     "name": "stderr",
     "output_type": "stream",
     "text": [
      "Cloning into '../../data/github/opalj_opal'...\n",
      "Updating files: 100% (3309/3309), done.\n",
      "Note: switching to 'df762abb6deeb81965f04834faf93fa88208263a'.\n",
      "\n",
      "You are in 'detached HEAD' state. You can look around, make experimental\n",
      "changes and commit them, and you can discard any commits you make in this\n",
      "state without impacting any branches by switching back to a branch.\n",
      "\n",
      "If you want to create a new branch to retain commits you create, you may\n",
      "do so (now or later) by using -c with the switch command. Example:\n",
      "\n",
      "  git switch -c <new-branch-name>\n",
      "\n",
      "Or undo this operation with:\n",
      "\n",
      "  git switch -\n",
      "\n",
      "Turn off this advice by setting config variable advice.detachedHead to false\n",
      "\n",
      "HEAD is now at df762abb6d Merge pull request #273 from opalj/fix/InvokedynamicRewriting-fixes\n"
     ]
    },
    {
     "name": "stdout",
     "output_type": "stream",
     "text": [
      "Downloading facebook/infer at commit 2b4a611a66b049886cc69d2bafbf94ebeb420bfa...\n"
     ]
    },
    {
     "name": "stderr",
     "output_type": "stream",
     "text": [
      "Cloning into '../../data/github/facebook_infer'...\n",
      "Updating files: 100% (12846/12846), done.\n",
      "Note: switching to '2b4a611a66b049886cc69d2bafbf94ebeb420bfa'.\n",
      "\n",
      "You are in 'detached HEAD' state. You can look around, make experimental\n",
      "changes and commit them, and you can discard any commits you make in this\n",
      "state without impacting any branches by switching back to a branch.\n",
      "\n",
      "If you want to create a new branch to retain commits you create, you may\n",
      "do so (now or later) by using -c with the switch command. Example:\n",
      "\n",
      "  git switch -c <new-branch-name>\n",
      "\n",
      "Or undo this operation with:\n",
      "\n",
      "  git switch -\n",
      "\n",
      "Turn off this advice by setting config variable advice.detachedHead to false\n",
      "\n",
      "HEAD is now at 2b4a611a66 [swift] Translation update expression\n"
     ]
    },
    {
     "name": "stdout",
     "output_type": "stream",
     "text": [
      "Downloading arguslab/Argus-SAF at commit 06596c6bb03fe2560030b52bf2b47d17d1bd3068...\n"
     ]
    },
    {
     "name": "stderr",
     "output_type": "stream",
     "text": [
      "Cloning into '../../data/github/arguslab_Argus-SAF'...\n",
      "Note: switching to '06596c6bb03fe2560030b52bf2b47d17d1bd3068'.\n",
      "\n",
      "You are in 'detached HEAD' state. You can look around, make experimental\n",
      "changes and commit them, and you can discard any commits you make in this\n",
      "state without impacting any branches by switching back to a branch.\n",
      "\n",
      "If you want to create a new branch to retain commits you create, you may\n",
      "do so (now or later) by using -c with the switch command. Example:\n",
      "\n",
      "  git switch -c <new-branch-name>\n",
      "\n",
      "Or undo this operation with:\n",
      "\n",
      "  git switch -\n",
      "\n",
      "Turn off this advice by setting config variable advice.detachedHead to false\n",
      "\n",
      "HEAD is now at 06596c6 Update README.md\n"
     ]
    },
    {
     "name": "stdout",
     "output_type": "stream",
     "text": [
      "Downloading MIT-PAC/droidsafe-src at commit 1eab2fc473f3d32ba352280a6c520b216bd1b5df...\n"
     ]
    },
    {
     "name": "stderr",
     "output_type": "stream",
     "text": [
      "Cloning into '../../data/github/MIT-PAC_droidsafe-src'...\n",
      "Updating files: 100% (6735/6735), done.\n",
      "Note: switching to '1eab2fc473f3d32ba352280a6c520b216bd1b5df'.\n",
      "\n",
      "You are in 'detached HEAD' state. You can look around, make experimental\n",
      "changes and commit them, and you can discard any commits you make in this\n",
      "state without impacting any branches by switching back to a branch.\n",
      "\n",
      "If you want to create a new branch to retain commits you create, you may\n",
      "do so (now or later) by using -c with the switch command. Example:\n",
      "\n",
      "  git switch -c <new-branch-name>\n",
      "\n",
      "Or undo this operation with:\n",
      "\n",
      "  git switch -\n",
      "\n",
      "Turn off this advice by setting config variable advice.detachedHead to false\n",
      "\n",
      "HEAD is now at 1eab2fc47 updating standalone obj sens analysis\n"
     ]
    },
    {
     "name": "stdout",
     "output_type": "stream",
     "text": [
      "Downloading vitsalis/PyCG at commit 8d5dc40837803beef1d8d379fbf2cdad6cd94641...\n"
     ]
    },
    {
     "name": "stderr",
     "output_type": "stream",
     "text": [
      "Cloning into '../../data/github/vitsalis_PyCG'...\n",
      "Note: switching to '8d5dc40837803beef1d8d379fbf2cdad6cd94641'.\n",
      "\n",
      "You are in 'detached HEAD' state. You can look around, make experimental\n",
      "changes and commit them, and you can discard any commits you make in this\n",
      "state without impacting any branches by switching back to a branch.\n",
      "\n",
      "If you want to create a new branch to retain commits you create, you may\n",
      "do so (now or later) by using -c with the switch command. Example:\n",
      "\n",
      "  git switch -c <new-branch-name>\n",
      "\n",
      "Or undo this operation with:\n",
      "\n",
      "  git switch -\n",
      "\n",
      "Turn off this advice by setting config variable advice.detachedHead to false\n",
      "\n",
      "HEAD is now at 8d5dc40 Archival message\n"
     ]
    },
    {
     "name": "stdout",
     "output_type": "stream",
     "text": [
      "Downloading scottrogowski/code2flow at commit c2c22afe5e12f969cc256373bf8f4eec592dc762...\n"
     ]
    },
    {
     "name": "stderr",
     "output_type": "stream",
     "text": [
      "Cloning into '../../data/github/scottrogowski_code2flow'...\n",
      "Note: switching to 'c2c22afe5e12f969cc256373bf8f4eec592dc762'.\n",
      "\n",
      "You are in 'detached HEAD' state. You can look around, make experimental\n",
      "changes and commit them, and you can discard any commits you make in this\n",
      "state without impacting any branches by switching back to a branch.\n",
      "\n",
      "If you want to create a new branch to retain commits you create, you may\n",
      "do so (now or later) by using -c with the switch command. Example:\n",
      "\n",
      "  git switch -c <new-branch-name>\n",
      "\n",
      "Or undo this operation with:\n",
      "\n",
      "  git switch -\n",
      "\n",
      "Turn off this advice by setting config variable advice.detachedHead to false\n",
      "\n",
      "HEAD is now at c2c22af version bump 2.5.1\n"
     ]
    },
    {
     "name": "stdout",
     "output_type": "stream",
     "text": [
      "Downloading cs-au-dk/TAJS at commit 3bdf55a411d6fc278fce9a6b4198b104a07a7852...\n"
     ]
    },
    {
     "name": "stderr",
     "output_type": "stream",
     "text": [
      "Cloning into '../../data/github/cs-au-dk_TAJS'...\n",
      "Updating files: 100% (7291/7291), done.\n",
      "Note: switching to '3bdf55a411d6fc278fce9a6b4198b104a07a7852'.\n",
      "\n",
      "You are in 'detached HEAD' state. You can look around, make experimental\n",
      "changes and commit them, and you can discard any commits you make in this\n",
      "state without impacting any branches by switching back to a branch.\n",
      "\n",
      "If you want to create a new branch to retain commits you create, you may\n",
      "do so (now or later) by using -c with the switch command. Example:\n",
      "\n",
      "  git switch -c <new-branch-name>\n",
      "\n",
      "Or undo this operation with:\n",
      "\n",
      "  git switch -\n",
      "\n",
      "Turn off this advice by setting config variable advice.detachedHead to false\n",
      "\n",
      "HEAD is now at 3bdf55a4 Update README.md\n"
     ]
    },
    {
     "name": "stdout",
     "output_type": "stream",
     "text": [
      "Downloading diffblue/cbmc at commit 8bc2048d27d4d458e44f92358f4859a298f96365...\n"
     ]
    },
    {
     "name": "stderr",
     "output_type": "stream",
     "text": [
      "Cloning into '../../data/github/diffblue_cbmc'...\n",
      "Updating files: 100% (27220/27220), done.\n",
      "Note: switching to '8bc2048d27d4d458e44f92358f4859a298f96365'.\n",
      "\n",
      "You are in 'detached HEAD' state. You can look around, make experimental\n",
      "changes and commit them, and you can discard any commits you make in this\n",
      "state without impacting any branches by switching back to a branch.\n",
      "\n",
      "If you want to create a new branch to retain commits you create, you may\n",
      "do so (now or later) by using -c with the switch command. Example:\n",
      "\n",
      "  git switch -c <new-branch-name>\n",
      "\n",
      "Or undo this operation with:\n",
      "\n",
      "  git switch -\n",
      "\n",
      "Turn off this advice by setting config variable advice.detachedHead to false\n",
      "\n",
      "HEAD is now at 8bc2048d27 use std::size_t for an instruction count\n"
     ]
    },
    {
     "name": "stdout",
     "output_type": "stream",
     "text": [
      "Downloading plast-lab/doop at commit 5e7f6a5e9644567a27ea745466725496fb27c454...\n"
     ]
    },
    {
     "name": "stderr",
     "output_type": "stream",
     "text": [
      "Cloning into '../../data/github/plast-lab_doop'...\n",
      "Note: switching to '5e7f6a5e9644567a27ea745466725496fb27c454'.\n",
      "\n",
      "You are in 'detached HEAD' state. You can look around, make experimental\n",
      "changes and commit them, and you can discard any commits you make in this\n",
      "state without impacting any branches by switching back to a branch.\n",
      "\n",
      "If you want to create a new branch to retain commits you create, you may\n",
      "do so (now or later) by using -c with the switch command. Example:\n",
      "\n",
      "  git switch -c <new-branch-name>\n",
      "\n",
      "Or undo this operation with:\n",
      "\n",
      "  git switch -\n",
      "\n",
      "Turn off this advice by setting config variable advice.detachedHead to false\n",
      "\n",
      "HEAD is now at 5e7f6a5e9 Add oracular analyses, 3obj+2h, downgrade soot\n"
     ]
    },
    {
     "name": "stdout",
     "output_type": "stream",
     "text": [
      "Downloading phpstan/phpstan at commit b42dc58e64b1730f94cbf5421f0335e7d85929f5...\n"
     ]
    },
    {
     "name": "stderr",
     "output_type": "stream",
     "text": [
      "Cloning into '../../data/github/phpstan_phpstan'...\n",
      "Note: switching to 'b42dc58e64b1730f94cbf5421f0335e7d85929f5'.\n",
      "\n",
      "You are in 'detached HEAD' state. You can look around, make experimental\n",
      "changes and commit them, and you can discard any commits you make in this\n",
      "state without impacting any branches by switching back to a branch.\n",
      "\n",
      "If you want to create a new branch to retain commits you create, you may\n",
      "do so (now or later) by using -c with the switch command. Example:\n",
      "\n",
      "  git switch -c <new-branch-name>\n",
      "\n",
      "Or undo this operation with:\n",
      "\n",
      "  git switch -\n",
      "\n",
      "Turn off this advice by setting config variable advice.detachedHead to false\n",
      "\n",
      "HEAD is now at b42dc58e6 Update BACKERS.md\n"
     ]
    },
    {
     "name": "stdout",
     "output_type": "stream",
     "text": [
      "Downloading phpstan/phpstan-src at commit cfa029941414a746b3d74de90b8acebd5c9ed3a7...\n"
     ]
    },
    {
     "name": "stderr",
     "output_type": "stream",
     "text": [
      "Cloning into '../../data/github/phpstan_phpstan-src'...\n",
      "Note: switching to 'cfa029941414a746b3d74de90b8acebd5c9ed3a7'.\n",
      "\n",
      "You are in 'detached HEAD' state. You can look around, make experimental\n",
      "changes and commit them, and you can discard any commits you make in this\n",
      "state without impacting any branches by switching back to a branch.\n",
      "\n",
      "If you want to create a new branch to retain commits you create, you may\n",
      "do so (now or later) by using -c with the switch command. Example:\n",
      "\n",
      "  git switch -c <new-branch-name>\n",
      "\n",
      "Or undo this operation with:\n",
      "\n",
      "  git switch -\n",
      "\n",
      "Turn off this advice by setting config variable advice.detachedHead to false\n",
      "\n",
      "HEAD is now at cfa029941 Fixed false-positive with by-ref parameters and array-modifying functions\n"
     ]
    },
    {
     "name": "stdout",
     "output_type": "stream",
     "text": [
      "Downloading security-code-scan/security-code-scan at commit 815046d24e49cec43469f4852d19562a916541eb...\n"
     ]
    },
    {
     "name": "stderr",
     "output_type": "stream",
     "text": [
      "Cloning into '../../data/github/security-code-scan_security-code-scan'...\n",
      "Note: switching to '815046d24e49cec43469f4852d19562a916541eb'.\n",
      "\n",
      "You are in 'detached HEAD' state. You can look around, make experimental\n",
      "changes and commit them, and you can discard any commits you make in this\n",
      "state without impacting any branches by switching back to a branch.\n",
      "\n",
      "If you want to create a new branch to retain commits you create, you may\n",
      "do so (now or later) by using -c with the switch command. Example:\n",
      "\n",
      "  git switch -c <new-branch-name>\n",
      "\n",
      "Or undo this operation with:\n",
      "\n",
      "  git switch -\n",
      "\n",
      "Turn off this advice by setting config variable advice.detachedHead to false\n",
      "\n",
      "HEAD is now at 815046d Update Directory.Build.props\n"
     ]
    },
    {
     "name": "stdout",
     "output_type": "stream",
     "text": [
      "Downloading pmd/pmd at commit 0d0c0a2e16130cdaa6e54aa4b951c44073416b30...\n"
     ]
    },
    {
     "name": "stderr",
     "output_type": "stream",
     "text": [
      "Cloning into '../../data/github/pmd_pmd'...\n",
      "Note: switching to '0d0c0a2e16130cdaa6e54aa4b951c44073416b30'.\n",
      "\n",
      "You are in 'detached HEAD' state. You can look around, make experimental\n",
      "changes and commit them, and you can discard any commits you make in this\n",
      "state without impacting any branches by switching back to a branch.\n",
      "\n",
      "If you want to create a new branch to retain commits you create, you may\n",
      "do so (now or later) by using -c with the switch command. Example:\n",
      "\n",
      "  git switch -c <new-branch-name>\n",
      "\n",
      "Or undo this operation with:\n",
      "\n",
      "  git switch -\n",
      "\n",
      "Turn off this advice by setting config variable advice.detachedHead to false\n",
      "\n",
      "HEAD is now at 0d0c0a2e16 Bump PMD from 7.13.0 to 7.14.0 (#5775)\n"
     ]
    },
    {
     "name": "stdout",
     "output_type": "stream",
     "text": [
      "Downloading spotbugs/spotbugs at commit da3610b7de3828bcca77083fbe14991448bf5f89...\n"
     ]
    },
    {
     "name": "stderr",
     "output_type": "stream",
     "text": [
      "Cloning into '../../data/github/spotbugs_spotbugs'...\n",
      "Note: switching to 'da3610b7de3828bcca77083fbe14991448bf5f89'.\n",
      "\n",
      "You are in 'detached HEAD' state. You can look around, make experimental\n",
      "changes and commit them, and you can discard any commits you make in this\n",
      "state without impacting any branches by switching back to a branch.\n",
      "\n",
      "If you want to create a new branch to retain commits you create, you may\n",
      "do so (now or later) by using -c with the switch command. Example:\n",
      "\n",
      "  git switch -c <new-branch-name>\n",
      "\n",
      "Or undo this operation with:\n",
      "\n",
      "  git switch -\n",
      "\n",
      "Turn off this advice by setting config variable advice.detachedHead to false\n",
      "\n",
      "HEAD is now at da3610b7d add `CWO_CLOSED_WITHOUT_OPENED` bugtype to `FindUnreleasedLock` detector (#3385)\n"
     ]
    }
   ],
   "source": [
    "for index, row in repositories.iterrows():\n",
    "    if row['host'] == 'Github':\n",
    "        repo = gh.get_repo(row['repo'])\n",
    "        # get the commit of the last commit before the data download date, download the repo at that commit\n",
    "        commits = repo.get_commits(until=DATA_DOWNLOAD_DATE)\n",
    "        # get the last commit before the data download date\n",
    "        if commits.totalCount > 0:\n",
    "            commit = commits[0]\n",
    "            print(f\"Downloading {row['repo']} at commit {commit.sha}...\")\n",
    "            # clone the repository at that commit\n",
    "            subprocess.run(['git', 'clone', repo.clone_url, f\"../../../data/github/{row['repo'].replace('/', '_')}\"])\n",
    "            # checkout the commit\n",
    "            subprocess.run(['git', 'checkout', commit.sha], cwd=f\"../../../data/github/{row['repo'].replace('/', '_')}\")"
   ]
  },
  {
   "cell_type": "code",
   "execution_count": null,
   "id": "780f81ff",
   "metadata": {},
   "outputs": [
    {
     "name": "stdout",
     "output_type": "stream",
     "text": [
      "    4007 text files.\n",
      "    3810 unique files.                                          \n",
      "     331 files ignored.\n",
      "mkdir /Users/ericzhang/Desktop/Code/Summer-Research/MSR-Static-Analysis/data/github/soot-oss_soot/../../../results/csv/loc/\n",
      "Wrote ../../../results/csv/loc/soot-oss_soot.csv\n",
      "    2490 text files.\n",
      "    2109 unique files.                                          \n",
      "    1175 files ignored.\n",
      "Wrote ../../../results/csv/loc/soot-oss_SootUp.csv\n",
      "    2516 text files.\n",
      "    2450 unique files.                                          \n",
      "      87 files ignored.\n",
      "Wrote ../../../results/csv/loc/wala_WALA.csv\n",
      "    1456 text files.\n",
      "    1394 unique files.                                          \n",
      "      91 files ignored.\n",
      "Wrote ../../../results/csv/loc/secure-software-engineering_FlowDroid.csv\n",
      "    1544 text files.\n",
      "    1470 unique files.                                          \n",
      "      97 files ignored.\n",
      "Wrote ../../../results/csv/loc/secure-software-engineering_phasar.csv\n",
      "    3035 text files.\n",
      "    2951 unique files.                                          \n",
      "     402 files ignored.\n",
      "Wrote ../../../results/csv/loc/opalj_opal.csv\n",
      "   12051 text files.\n",
      "   11078 unique files.                                          \n",
      "    1093 files ignored.\n",
      "Wrote ../../../results/csv/loc/facebook_infer.csv\n",
      "     703 text files.\n",
      "     557 unique files.                                          \n",
      "     422 files ignored.\n",
      "Wrote ../../../results/csv/loc/arguslab_Argus-SAF.csv\n",
      "    5842 text files.\n",
      "    5765 unique files.                                          \n",
      "     970 files ignored.\n",
      "Wrote ../../../results/csv/loc/MIT-PAC_droidsafe-src.csv\n",
      "     530 text files.\n",
      "     469 unique files.                                          \n",
      "      62 files ignored.\n",
      "Wrote ../../../results/csv/loc/vitsalis_PyCG.csv\n",
      "     181 text files.\n",
      "     173 unique files.                                          \n",
      "      11 files ignored.\n",
      "Wrote ../../../results/csv/loc/scottrogowski_code2flow.csv\n",
      "    4556 text files.\n",
      "    2590 unique files.                                          \n",
      "    4689 files ignored.\n",
      "Wrote ../../../results/csv/loc/cs-au-dk_TAJS.csv\n",
      "   25505 text files.\n",
      "    8620 unique files.                                          \n",
      "   18543 files ignored.\n",
      "Wrote ../../../results/csv/loc/diffblue_cbmc.csv\n",
      "     949 text files.\n",
      "     333 unique files.                                          \n",
      "     630 files ignored.\n",
      "Wrote ../../../results/csv/loc/plast-lab_doop.csv\n",
      "     633 text files.\n",
      "     397 unique files.                                          \n",
      "     340 files ignored.\n",
      "Wrote ../../../results/csv/loc/phpstan_phpstan.csv\n",
      "    6518 text files.\n",
      "    6204 unique files.                                          \n",
      "     316 files ignored.\n",
      "Wrote ../../../results/csv/loc/phpstan_phpstan-src.csv\n",
      "     490 text files.\n",
      "     486 unique files.                                          \n",
      "      17 files ignored.\n",
      "Wrote ../../../results/csv/loc/security-code-scan_security-code-scan.csv\n",
      "    4998 text files.\n",
      "    4697 unique files.                                          \n",
      "     403 files ignored.\n",
      "Wrote ../../../results/csv/loc/pmd_pmd.csv\n",
      "    3749 text files.\n",
      "    3680 unique files.                                          \n",
      "     177 files ignored.\n",
      "Wrote ../../../results/csv/loc/spotbugs_spotbugs.csv\n"
     ]
    }
   ],
   "source": [
    "# loc count\n",
    "for index, row in repositories.iterrows():\n",
    "    if row['host'] == 'Github':\n",
    "        repo_path = f\"../../../data/github/{row['repo'].replace('/', '_')}\"\n",
    "        subprocess.run(['cloc', '.', '--csv', '--out', f'../../../results/csv/general/loc/{row[\"repo\"].replace(\"/\", \"_\")}.csv'], cwd=repo_path)"
   ]
  }
 ],
 "metadata": {
  "kernelspec": {
   "display_name": ".venv",
   "language": "python",
   "name": "python3"
  },
  "language_info": {
   "codemirror_mode": {
    "name": "ipython",
    "version": 3
   },
   "file_extension": ".py",
   "mimetype": "text/x-python",
   "name": "python",
   "nbconvert_exporter": "python",
   "pygments_lexer": "ipython3",
   "version": "3.9.6"
  }
 },
 "nbformat": 4,
 "nbformat_minor": 5
}
