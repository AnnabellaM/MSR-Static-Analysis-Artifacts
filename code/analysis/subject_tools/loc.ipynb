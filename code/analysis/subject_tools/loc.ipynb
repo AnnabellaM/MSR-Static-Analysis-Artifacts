{
 "cells": [
  {
   "cell_type": "code",
   "execution_count": null,
   "id": "7be27da3",
   "metadata": {},
   "outputs": [],
   "source": [
    "from github import Github\n",
    "from github import Auth\n",
    "from dotenv import dotenv_values\n",
    "import pandas as pd\n",
    "import sys\n",
    "import subprocess\n",
    "sys.path.append('../../')\n",
    "from utils.constants import DATA_DOWNLOAD_DATE\n",
    "from utils.dataloader import get_repos\n",
    "\n",
    "config = dotenv_values(\"../../../.env\")\n",
    "auth = Auth.Token(config['GITHUB_TOKEN'])\n",
    "gh = Github(auth=auth)\n",
    "\n",
    "repositories = get_repos()"
   ]
  },
  {
   "cell_type": "code",
   "execution_count": null,
   "id": "4e47aaad",
   "metadata": {},
   "outputs": [],
   "source": [
    "for index, row in repositories.iterrows():\n",
    "    if row['host'] == 'Github':\n",
    "        repo = gh.get_repo(row['repo'])\n",
    "        # get the commit of the last commit before the data download date, download the repo at that commit\n",
    "        commits = repo.get_commits(until=DATA_DOWNLOAD_DATE)\n",
    "        # get the last commit before the data download date\n",
    "        if commits.totalCount > 0:\n",
    "            commit = commits[0]\n",
    "            print(f\"Downloading {row['repo']} at commit {commit.sha}...\")\n",
    "            # clone the repository at that commit\n",
    "            subprocess.run(['git', 'clone', repo.clone_url, f\"../../../data/github/{row['repo'].replace('/', '_')}\"])\n",
    "            # checkout the commit\n",
    "            subprocess.run(['git', 'checkout', commit.sha], cwd=f\"../../../data/github/{row['repo'].replace('/', '_')}\")"
   ]
  },
  {
   "cell_type": "code",
   "execution_count": null,
   "id": "780f81ff",
   "metadata": {},
   "outputs": [],
   "source": [
    "# loc count\n",
    "for index, row in repositories.iterrows():\n",
    "    if row['host'] == 'Github':\n",
    "        repo_path = f\"../../../data/github/{row['repo'].replace('/', '_')}\"\n",
    "        subprocess.run(['cloc', '.', '--csv', '--out', f'../../../results/csv/general/loc/{row[\"repo\"].replace(\"/\", \"_\")}.csv'], cwd=repo_path)"
   ]
  }
 ],
 "metadata": {
  "kernelspec": {
   "display_name": ".venv",
   "language": "python",
   "name": "python3"
  },
  "language_info": {
   "codemirror_mode": {
    "name": "ipython",
    "version": 3
   },
   "file_extension": ".py",
   "mimetype": "text/x-python",
   "name": "python",
   "nbconvert_exporter": "python",
   "pygments_lexer": "ipython3",
   "version": "3.9.6"
  }
 },
 "nbformat": 4,
 "nbformat_minor": 5
}
