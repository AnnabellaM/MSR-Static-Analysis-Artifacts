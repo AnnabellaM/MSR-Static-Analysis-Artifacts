{
 "cells": [
  {
   "cell_type": "code",
   "execution_count": 8,
   "id": "0736e05c",
   "metadata": {},
   "outputs": [],
   "source": [
    "import sys\n",
    "import pandas as pd\n",
    "sys.path.append('../')\n",
    "from utils.dataloader import get_all_issues, get_all_pull_requests, get_all_commits\n",
    "\n",
    "issues = get_all_issues()\n",
    "issues = pd.DataFrame(issues)\n",
    "\n",
    "pull_requests = get_all_pull_requests()\n",
    "pull_requests = pd.DataFrame(pull_requests)\n",
    "\n",
    "commits = get_all_commits()\n",
    "commits = pd.DataFrame(commits)"
   ]
  },
  {
   "cell_type": "code",
   "execution_count": 5,
   "id": "3e907df6",
   "metadata": {},
   "outputs": [],
   "source": [
    "issues = issues[['id', 'title', 'body', 'user', 'state', 'created_at', 'closed_at', 'updated_on', 'timeline', 'html_url', 'labels', 'repo', 'host']]"
   ]
  },
  {
   "cell_type": "code",
   "execution_count": 7,
   "id": "86268049",
   "metadata": {},
   "outputs": [],
   "source": [
    "issues.to_csv('../data/processed/issues_metadata.csv', index=False)"
   ]
  },
  {
   "cell_type": "code",
   "execution_count": 9,
   "id": "2a3d3245",
   "metadata": {},
   "outputs": [],
   "source": [
    "pull_requests = pull_requests[['id', 'html_url', 'repo', 'host', 'commits']]"
   ]
  },
  {
   "cell_type": "code",
   "execution_count": 10,
   "id": "1677086e",
   "metadata": {},
   "outputs": [],
   "source": [
    "pull_requests.to_csv('../data/processed/pull_requests_metadata.csv', index=False)"
   ]
  },
  {
   "cell_type": "code",
   "execution_count": 16,
   "id": "f6e09606",
   "metadata": {},
   "outputs": [],
   "source": [
    "commits = commits[['sha', 'files']]\n",
    "new_commits = []\n",
    "\n",
    "for i, row in commits.iterrows():\n",
    "    if isinstance(row['files'], list):\n",
    "        files = row['files']\n",
    "        new_files = []\n",
    "        for file in files:\n",
    "            # Process each file\n",
    "            # only keep the file name and changes count\n",
    "            file_name = file['filename']\n",
    "            changes = file['changes']\n",
    "            new_files.append({'filename': file_name, 'changes': changes})\n",
    "    new_commits.append({'sha': row['sha'], 'files': new_files})\n",
    "\n",
    "new_commits_df = pd.DataFrame(new_commits)\n",
    "new_commits_df.to_csv('../data/processed/commits_metadata.csv', index=False)"
   ]
  }
 ],
 "metadata": {
  "kernelspec": {
   "display_name": ".venv",
   "language": "python",
   "name": "python3"
  },
  "language_info": {
   "codemirror_mode": {
    "name": "ipython",
    "version": 3
   },
   "file_extension": ".py",
   "mimetype": "text/x-python",
   "name": "python",
   "nbconvert_exporter": "python",
   "pygments_lexer": "ipython3",
   "version": "3.9.6"
  }
 },
 "nbformat": 4,
 "nbformat_minor": 5
}
